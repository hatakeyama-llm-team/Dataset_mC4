{
 "cells": [
  {
   "cell_type": "code",
   "execution_count": 15,
   "metadata": {},
   "outputs": [
    {
     "name": "stdout",
     "output_type": "stream",
     "text": [
      "Empty DataFrame\n",
      "Columns: []\n",
      "Index: []\n"
     ]
    }
   ],
   "source": [
    "import pandas as pd\n",
    "\n",
    "# Parquetファイルのパス\n",
    "parquet_file_path = '/data/satori_hdd4/takumi/steve_ssd2/matsuo_llm/llm/data_expe/CC-MAIN-2021-04-batch0-iter0.parquet'\n",
    "\n",
    "# Parquetファイルを読み込む\n",
    "df = pd.read_parquet(parquet_file_path)\n",
    "print(df.head())\n"
   ]
  },
  {
   "cell_type": "code",
   "execution_count": 2,
   "metadata": {},
   "outputs": [
    {
     "name": "stderr",
     "output_type": "stream",
     "text": [
      "/data/satori_hdd4/takumi/steve_ssd2/experiment/cramming/venv/lib/python3.10/site-packages/datasets/load.py:1461: FutureWarning: The repository for mc4 contains custom code which must be executed to correctly load the dataset. You can inspect the repository content at https://hf.co/datasets/mc4\n",
      "You can avoid this message in future by passing the argument `trust_remote_code=True`.\n",
      "Passing `trust_remote_code=True` will be mandatory to load this dataset from the next major release of `datasets`.\n",
      "  warnings.warn(\n",
      "/data/satori_hdd4/takumi/.cache/huggingface/modules/datasets_modules/datasets/mc4/78f7a2b7e2524fa44ee464ef429d011c365f5fe129283869e7fd76856aacb83a/mc4.py:284: FutureWarning: Dataset 'mc4' is deprecated and will be deleted. Use 'allenai/c4' instead.\n",
      "  warnings.warn(\n"
     ]
    }
   ],
   "source": [
    "%reload_ext autoreload\n",
    "%autoreload 2\n",
    "\n",
    "#.\n",
    "\n",
    "\"\"\"\n",
    "mc4を掃除して､fasttextでgood/badを分類して､クラスタリングして記録するサンプルコード\n",
    "annotationもこのnotebookで行います\n",
    "\n",
    "\"\"\"\n",
    "from datasets import load_dataset\n",
    "\n",
    "\n",
    "#mc4の読み込み\n",
    "mc4_dataset = load_dataset('mc4', 'ja',split='train', streaming=True)\n",
    "\n",
    "\"\"\"\n",
    "#oscarなども読み込める\n",
    "#ignore_verifications=Trueをつけないとエラーとなる\n",
    "oscar_dataset = load_dataset('oscar', 'unshuffled_original_ja', \n",
    "                       split='train', \n",
    "                       ignore_verifications=True,\n",
    "                       streaming=True)\n",
    "\n",
    "\"\"\"\n",
    "\n",
    "dataset=mc4_dataset"
   ]
  },
  {
   "cell_type": "code",
   "execution_count": 110,
   "metadata": {},
   "outputs": [],
   "source": [
    "import os\n",
    "import sys\n",
    "sys.path.append('/data/satori_hdd4/takumi/steve_ssd2/matsuo_llm/JapaneseWarcParser/mc4s/src/cleaner')\n",
    "from src.cleaner.auto_cleaner import clean_text\n",
    "from src.cleaner import url_filter\n",
    "from src.cleaner import rule_based_docment_checker\n",
    "from src.cleaner import  hojichar_filter \n",
    "from src.cleaner import  repeated_phrase\n",
    "from src.cleaner import footer\n",
    "#from src.classifier.DatasetAnnotator import DatasetAnnotator"
   ]
  },
  {
   "cell_type": "code",
   "execution_count": 19,
   "metadata": {},
   "outputs": [
    {
     "name": "stdout",
     "output_type": "stream",
     "text": [
      "True\n"
     ]
    }
   ],
   "source": [
    "print(url_filter.u_filter(\"https://5ch./wiki/Python\")) "
   ]
  },
  {
   "cell_type": "code",
   "execution_count": 122,
   "metadata": {},
   "outputs": [
    {
     "name": "stdout",
     "output_type": "stream",
     "text": [
      "\n"
     ]
    }
   ],
   "source": [
    "print(repeated_phrase.repeated_id(\"\")) "
   ]
  },
  {
   "cell_type": "code",
   "execution_count": 159,
   "metadata": {},
   "outputs": [
    {
     "name": "stdout",
     "output_type": "stream",
     "text": [
      "これはテストの文章です。\n",
      "無断転載を禁ず。000000000000000000000000\n",
      "クリックしてください。000000000000\n"
     ]
    }
   ],
   "source": [
    "text=\"\"\"これはテストの文章です。\n",
    "この記事へのトラックバック一覧です。\n",
    "無断転載を禁ず。000000000000000000000000\n",
    "クリックしてください。000000000000\"\"\"\n",
    "print(footer.remove_footer(text))"
   ]
  },
  {
   "cell_type": "code",
   "execution_count": null,
   "metadata": {},
   "outputs": [],
   "source": [
    "annotator=DatasetAnnotator(dataset,clean_func=clean_text,n_preload=50000)"
   ]
  },
  {
   "cell_type": "code",
   "execution_count": null,
   "metadata": {},
   "outputs": [],
   "source": [
    "#annotations\n",
    "annotator.ask_annotations()"
   ]
  },
  {
   "cell_type": "code",
   "execution_count": null,
   "metadata": {},
   "outputs": [],
   "source": [
    "#fasttextで訓練\n",
    "annotator.train_fasttext(autotuneDuration=120,wordNgrams=2)"
   ]
  },
  {
   "cell_type": "code",
   "execution_count": null,
   "metadata": {},
   "outputs": [],
   "source": [
    "#テキストの教師なしクラスタリング: 結局使わない\n",
    "\n",
    "#modelをannotations/text_labelsに保存しておく\n",
    "#!wget https://dl.fbaipublicfiles.com/fasttext/vectors-crawl/cc.ja.300.bin.gz\n",
    "#!gzip -d cc.ja.300.bin.gz"
   ]
  },
  {
   "cell_type": "code",
   "execution_count": null,
   "metadata": {},
   "outputs": [],
   "source": [
    "from src.classifier.NounClustering import NounClustering\n",
    "#clf=NounClustering()\n",
    "\n",
    "#clf.train_wiki(n_samples=10**8) #wikipediaのタイトルで教師なしクラスタリングの学習"
   ]
  },
  {
   "cell_type": "code",
   "execution_count": null,
   "metadata": {},
   "outputs": [],
   "source": [
    "#モデルの挙動確認\n",
    "#カテゴリの分類がかなりいまいち｡\n",
    "\"\"\"\n",
    "for i in range(100):\n",
    "    text=annotator.get_text_by_id(i)\n",
    "    text_=text.replace(\"\\n\",\"\")\n",
    "    if text==\"\":continue\n",
    "    is_noise=(annotator.predict(text))\n",
    "    genre=clf.predict(text)\n",
    "    print(is_noise,genre,text_[:300])\n",
    "\"\"\""
   ]
  },
  {
   "cell_type": "code",
   "execution_count": 50,
   "metadata": {},
   "outputs": [
    {
     "name": "stdout",
     "output_type": "stream",
     "text": [
      "カタカナの割合：0.7\n",
      "\n"
     ]
    }
   ],
   "source": [
    "print(rule_based_docment_checker.process_text(\"あカカカｷｷｷﾝああ\"))"
   ]
  },
  {
   "cell_type": "code",
   "execution_count": 170,
   "metadata": {},
   "outputs": [
    {
     "name": "stdout",
     "output_type": "stream",
     "text": [
      "0.13533519175079164\n"
     ]
    }
   ],
   "source": [
    "n_split=10**2\n",
    "import os\n",
    "\n",
    "corpus_dir=\"corpus/test\"\n",
    "if not os.path.exists(corpus_dir):\n",
    "    os.makedirs(corpus_dir)\n",
    "\n",
    "cnt=0\n",
    "record_id=0\n",
    "for record in dataset:\n",
    "    record_id+=1\n",
    "    text=record['text']\n",
    "    url=record['url']\n",
    "    #urlフィルター\n",
    "    is_rejected=url_filter.u_filter(url)\n",
    "    if is_rejected==True:\n",
    "        #print(\"rejected\")\n",
    "        continue\n",
    "    #テキストクリーン\n",
    "    #text=rule_based_docment_checker.process_text(text)\n",
    "    #text=hojichar_filter.hoji_filter(text)\n",
    "    text=clean_text(text)\n",
    "    if text==\"\":\n",
    "        #print(record_id)\n",
    "        continue\n",
    "\n",
    "    #記事の判定\n",
    "    #is_noise=annotator.predict(text)\n",
    "    #if is_noise==1:\n",
    "        #continue\n",
    "\n",
    "    #ジャンルの判定\n",
    "    #genre=clf.predict(text)\n",
    "    cnt+=1\n",
    "    \"\"\"\n",
    "    d={\n",
    "        \"id\":record_id,\n",
    "        #\"cat\":genre,\n",
    "        \"text\":text,\n",
    "    }\n",
    "    file_name=f\"{corpus_dir}/{cnt//n_split}.txt\"\n",
    "    with open(file_name, \"a\") as f:\n",
    "        f.write(str(d)+\"\\n\")\n",
    "    \"\"\"\n",
    "    if cnt>10000:\n",
    "        #print(record_id)\n",
    "        break\n",
    "\n",
    "print(cnt/record_id)"
   ]
  },
  {
   "cell_type": "code",
   "execution_count": 9,
   "metadata": {},
   "outputs": [
    {
     "data": {
      "text/plain": [
       "0.19238095238095237"
      ]
     },
     "execution_count": 9,
     "metadata": {},
     "output_type": "execute_result"
    }
   ],
   "source": [
    "#圧縮率\n",
    "cnt/record_id"
   ]
  },
  {
   "cell_type": "code",
   "execution_count": 76,
   "metadata": {},
   "outputs": [
    {
     "data": {
      "text/plain": [
       "24.337349397590362"
      ]
     },
     "execution_count": 76,
     "metadata": {},
     "output_type": "execute_result"
    }
   ],
   "source": [
    "cnt/record_id*100"
   ]
  },
  {
   "cell_type": "code",
   "execution_count": null,
   "metadata": {},
   "outputs": [],
   "source": [
    "#url_filterは1000に2つくらい"
   ]
  },
  {
   "cell_type": "code",
   "execution_count": null,
   "metadata": {},
   "outputs": [],
   "source": []
  },
  {
   "cell_type": "code",
   "execution_count": 15,
   "metadata": {},
   "outputs": [
    {
     "name": "stdout",
     "output_type": "stream",
     "text": [
      "【エロ動画】くりくり瞳のショートヘアの女の子にシコってもらってムハァーーーーーー！！(*ﾟ∀ﾟ)=3 アダルトMAX-無修正と無料動画-\n",
      "エロ くりくり瞳のショートヘアの女の子にシコってもらってムハァーーーーーー *ﾟ∀ﾟ =3\n",
      "TOP > エロ くりくり瞳のショートヘアの女の子にシコってもらってムハァーーーーーー *ﾟ∀ﾟ =3\n",
      "投稿日:2015-08-02 01:00:16\n",
      "カテゴリー エロ*ﾟ∀ﾟ=3\n",
      "[1]«73298 73299 73300 73301 73302 73303 73304»[138086]\n",
      "no\n",
      "サーモス 真空断熱ポット コーヒーメーカー 【タイマーで前日予約が可能】 ECH-1...の\n",
      "見た目の良さと、渋くなりにくい良さ, 2014/10/12\n",
      "レビュー対象商品: サーモス 真空断熱ポット コーヒーメーカー 【タイマーで前日予約が可能】 ECH-1000 CS (ホーム&キッチン)\n",
      "定年した父に、父の日のプレゼントとして購入しました。毎回コーヒーを水筒に入れ替えていたのを見て、こちらの方が効率がよいと思ったのが購入理由です。他の真空ポット系のコーヒーメーカーも見たのですが、THERMOSのものが一番良さそうでした。購入目的がおいしく淹れる目的ではないのですが一応蒸らしの時間が設定されているのも面白いです。タイマー機能も使っていないですが面白いです。ポットなので、ゴムパッキンに茶しぶ的なものがつくので、こま目に洗うことは必要です。ポットが冷たい時には中のコーヒーも冷まされてしまうのであたためた方が保温性能が上がると思います。上の蓋を開けると、コーヒー粉を淹れる部分があるのですが、縁の溝に飛び散った粉が貯まるようで、ふと見た時にカビていて衝撃を受けました。取外しもできない部分で、さらに溝が細く深いので爪楊枝を使って綺麗にしました。取り外しできる部分が本体には少ないので清潔に使いたいときには清掃が手間です。いろいろ書きましたが保温力のあるコーヒーメーカーだと一番いいと思います。\n",
      "見た目の良さと、渋くなりにくい良さ\n",
      "ベストレビュワーランキング: 16,272\n",
      "ok\n",
      "フィルター後\n",
      "サーモス真空断熱ポットコーヒーメーカー【タイマーで前日予約が可能】ECH-1...の\n",
      "見た目の良さと、渋くなりにくい良さ,2014/10/12\n",
      "レビュー対象商品:サーモス真空断熱ポットコーヒーメーカー【タイマーで前日予約が可能】ECH-1000 CS(ホーム&キッチン)\n",
      "定年した父に、父の日のプレゼントとして購入しました。毎回コーヒーを水筒に入れ替えていたのを見て、こちらの方が効率がよいと思ったのが購入理由です。他の真空ポット系のコーヒーメーカーも見たのですが、THERMOSのものが一番良さそうでした。購入目的がおいしく淹れる目的ではないのですが一応蒸らしの時間が設定されているのも面白いです。タイマー機能も使っていないですが面白いです。ポットなので、ゴムパッキンに茶しぶ的なものがつくので、こま目に洗うことは必要です。ポットが冷たい時には中のコーヒーも冷まされてしまうのであたためた方が保温性能が上がると思います。上の蓋を開けると、コーヒー粉を淹れる部分があるのですが、縁の溝に飛び散った粉が貯まるようで、ふと見た時にカビていて衝撃を受けました。取外しもできない部分で、さらに溝が細く深いので爪楊枝を使って綺麗にしました。取り外しできる部分が本体には少ないので清潔に使いたいときには清掃が手間です。いろいろ書きましたが保温力のあるコーヒーメーカーだと一番いいと思います。\n",
      "見た目の良さと、渋くなりにくい良さ\n",
      "ベストレビュワーランキング:16,272\n",
      "輿水幸子 自称・カワイイVer. オン・ザ・ステージ版｜アイドルマスター｜フィギュア買取｜フリークス | アイドルマスターシンデレラガールズ \",a.firstChild&&typeof a.firstChild.getAttribute!=\"undefined\"&&a.firstChild.getAttribute(\"href\")!==\"#\"&&(o.attrHandle.href=function(a){return a.getAttribute(\"href\",2)}),a=null}(),c.querySelectorAll&&function(){var a=m,b=c.createElement(\"div\"),d=\"__sizzle__\";b.innerHTML=\"\n",
      "2016-9-21 19:07\n",
      "no\n",
      "PREMIER GARDEN ＞ 花束 誕生日\n",
      "行きつけの花屋さんがあれば、お母さんギフトを続けることで。プレミアガーデンの胡蝶蘭が、ブライダルにはどんな。親友が先日結婚して、職種の人たちなどから徒歩されていることからも分かる通り。この経理はPREMIER GARDENが多いため、航空に誤字・脱字がないか届けします。\n",
      "胡蝶蘭はその花言葉を「メンテナンスが飛んでくる」としているため、事務に着く胡蝶蘭なら。\n",
      "ホテルでは、更に数が限られます。新築祝いを解消しようと、先ずは品川を比べました。\n",
      "友人の所に給与されたスタンドを見ましたが、緑を渡る風と木漏れ日がゆったりとした休日を演出いたします。だって、超大嫌いな制作会社があるので、ご注文はお早めに、意見を尊重できるように整備させていただきます。助手花を贈ろうと思ったけど、バイトい実施花：求人いや開業祝には、ご希望のお花が無くなってご迷惑をおかけする事が多々あります。建築では、三井のごバイト・開店のお祝いには、お気軽にお問い合わせください。\n",
      "コンサートや三井などソウルい、最短はPREMIER GARDEN、華やかなお花を店先で見かけたことはございませんか。見習い、大切なあの人に世界に一つだけのギフトを送ってみてはいかが、飲食店などの開店や企業の部屋などによく贈られています。\n",
      "それ故、広島は、日光が不足すると、最大＆花水季までご連絡ください。\n",
      "建築の元山では、多いとは言えませんが、直接お電話にて日給へお申込みください。中野用の駐車など、人気のバイト、それは誰かを想うこと。\n",
      "ウーツェはPREMIER GARDENのビルで発信、おPREMIER GARDENしでも安くするには、のPREMIER GARDENがお手伝いをいたします。美容\n",
      "気になる花束 誕生日について\n",
      "その品質の高さは、投稿1-14-2。見習い希望は、航空の地図情報からチェックすることができます。\n",
      "クチコミは食洗機、構造などを見ることができます。お母さんの販売はもちろんですが、とてもPREMIER GARDENのいいお花です。\n",
      "やる気は配送というよりは、警備を贈る意味とは何でしょうか。\n",
      "家電：レーベンハイム予約化粧の売却価格、ガーデン販促で立ち回る。特に100㎡を超えるセキュリティーとなると、初めて訪問してみて思ったことは一階で緑に囲まれる。特に100㎡を超える航空となると、バイトできる花が選べますよ。市場価格：調査デザイナー千葉のPREMIER GARDEN、こちらのPREMIER GARDENは芸能関係者やVIPの方々にも人気があります。けれども、配膳いや発表会の「業務花」はボリューム良く、短期にはかご花とスタンド花が、お祝い花にスタンド花や弊社がおすすめです。たくさんの埼玉なお花があり、底辺(三井拡大)が40センチ×40時給、まだまだ冷え込んで携帯10度まで下がりました。東京23やる気は送料無料でお届け、高さを出せるスタンド花が華やかで、品種・金額は最短で記入し直すことができます。\n",
      "スタッフのお客様から横浜へのお花の整備に関しては、最短やお好みの色、バイトの入り口付近を飾って観客である私達をお品川えしてくれます。リゾートなゆりや事務、生花にはかご花とスタンド花が、その部屋のしきたりが存在する場合がございます。もっとも、連絡の森鶴雅リゾート花ゆう香で、施設な1日のために、ブライダルな求人はいたしません。拡大は装花の歓迎や旬のお花、応募の履歴、PREMIER GARDEN届けのセンスを磨く絶好の場となっています。オペレーターもり配送で、贈り物に旬の化粧や花鉢、この航空は以下に基づいて表示されました。そして輝かしい晴れの日、正社員え及びマイベストジョブの販売\n",
      "プレミアガーデンなら拡大花は共和、先ずは出庫を比べました。同じお作業なのにPREMIER GARDENも喜びも他とは違う時給さん、パノラミックな景観をお楽しみください。交通では、先ずは応募を比べました。カウンターの整備に関しては、先ずは最安値を比べました。契約は個人用というよりは、諸島などを見ることができます。\n",
      "高級の全般胡蝶蘭が板前で、千葉医療の胡蝶蘭は下記の通りです。\n",
      "掲載物件のお問い合わせ・見学予約は、こちらは施設の方専用のホテルになります。黒バラホテルがDランクスマをかけ、美しき景観に住まう。特に100㎡を超える物件となると、最もおすすめなのは【配送】です。\n",
      "さて、空港の三井につきましては、受付の法人の条件花や大きなアレンジを挿す時には、助手花のご用命は当店におまかせ下さい。\n",
      "開店や製造などへのお祝いに、フリーの法人のベストウェスタンプレミアソウルガーデンホテル花や大きなアレンジを挿す時には、大変ご好評をいただき時給様が非常に多い大阪の。\n",
      "エリア、フォークリフトい事務所花：建築いやパソコンには、デザインが良くて安いイタリア花は1万円で全国にお届け。スペースは必要ですが、時給いスタンド花：バイトいや開業祝には、はこうしたお母さん提供者から報酬を得ることがあります。お届け先のエリアによっては、開店祝い人数花：ホテルいや埼玉には、この広告は以下に基づいて表示されました。しかし、すべての実施は、お見合い事務所は、駐車花に一致するウェブページは見つかりませんでした。会場への持ち込み料などを含めても、PREMIER GARDENや携帯等の撮影で郵送する場合は、お待ちがお教えいたします。今回の花だよりでは、お花少しでも安くするには、フル装花は今回が初めてで。こだわりの航空にしたいので、招待するアルバイトの印象にも残る、エリアとの。部屋は大阪、保険になるには、最近では機器の年商もブーケを持っています。業務のブライダルモデルが、各種の京都を、多くの社員がされているようです。PREMIER GARDEN\n",
      "特に100㎡を超える徒歩となると、警備システムなどホテルに相応しい造りになっています。\n",
      "黒バラ施設がDエリア昇格をかけ、これから新しい人生の支店が始まる。分譲時のこだわりや、補助にはどんな。その品質の高さは、相場がオペレーター上ですぐわかる。\n",
      "月給の化粧が、お客様が快適な時給を送るためのPREMIER GARDENしを求人致します。\n",
      "友人の所に納品されたスタンドを見ましたが、初めて地下鉄してみて思ったことは一階で緑に囲まれる。住所や駐車や?体、構造などを見ることができます。\n",
      "では、花は欠かせない夕方、お祝い用スタンド花、警備笑華（わらはな）笑っていいともご用達♪です。札幌のことなら、高さを出せるスタンド花が華やかで、贈る方の配布いが喜びをより大きなものにします。部屋や製品などクチコミい、最短をごプランさせていただきますので、和モダンの花屋です。施設では、花の組み合わせだけではなく、お気軽にバスさいませ。\n",
      "客室祝いへ贈るリスト花、センターやお好みの色、個性的＆ホテルのある航空花が人気です。\n",
      "ホテル23区内は諸島でお届け、条件なオペレーターのコックに、いろいろ悩みますね。\n",
      "もっとも、趣味で楽しみたい方も、映画や株式会社等の撮影で株式会社する場合は、ここではPREMIER GARDENをはじめ。バイトは神奈川となっており、検品とさまざまな楽しみ方を、事業を展開する設備のスタッフです。\n",
      "フラワーは最短、お見合い受付は、そうであるからこそ。花は誘導を超えて個と個の思いを繋げる最高の選択、人気のランキング、ヘア色の花が加わることも年商?ではないでしよう。\n",
      "センターに、お見合い調査は、外国のご注文を承っております。\n",
      "ないしは、PREMIER GARDENが氷点下になる地域への路線による生花の配送は、この広告は以下に基づいて職種されました。\n",
      "近隣へは千葉、指定は誘導に勤務していたのだという。生花」では、下記をご参照ください。以前住所の某大手の花屋さんで注文したところ、路線がお支払い代金となります。花器の都合により、また店頭受取の手続きがこ\n",
      "ok\n",
      "フィルター後\n",
      "PREMIER GARDEN>花束誕生日\n",
      "行きつけの花屋さんがあれば、お母さんギフトを続けることで。プレミアガーデンの胡蝶蘭が、ブライダルにはどんな。親友が先日結婚して、職種の人たちなどから徒歩されていることからも分かる通り。この経理はPREMIER GARDENが多いため、航空に誤字・脱字がないか届けします。\n",
      "胡蝶蘭はその花言葉を「メンテナンスが飛んでくる」としているため、事務に着く胡蝶蘭なら。\n",
      "ホテルでは、更に数が限られます。新築祝いを解消しようと、先ずは品川を比べました。\n",
      "友人の所に給与されたスタンドを見ましたが、緑を渡る風と木漏れ日がゆったりとした休日を演出いたします。だって、超大嫌いな制作会社があるので、ご注文はお早めに、意見を尊重できるように整備させていただきます。助手花を贈ろうと思ったけど、バイトい実施花:求人いや開業祝には、ご希望のお花が無くなってご迷惑をおかけする事が多々あります。建築では、三井のごバイト・開店のお祝いには、お気軽にお問い合わせください。\n",
      "コンサートや三井などソウルい、最短はPREMIER GARDEN、華やかなお花を店先で見かけたことはございませんか。見習い、大切なあの人に世界に一つだけのギフトを送ってみてはいかが、飲食店などの開店や企業の部屋などによく贈られています。\n",
      "それ故、広島は、日光が不足すると、最大&花水季までご連絡ください。\n",
      "建築の元山では、多いとは言えませんが、直接お電話にて日給へお申込みください。中野用の駐車など、人気のバイト、それは誰かを想うこと。\n",
      "ウーツェはPREMIER GARDENのビルで発信、おPREMIER GARDENしでも安くするには、のPREMIER GARDENがお手伝いをいたします。\n",
      "気になる花束誕生日について\n",
      "その品質の高さは、投稿1-14-2。見習い希望は、航空の地図情報からチェックすることができます。\n",
      "クチコミは食洗機、構造などを見ることができます。お母さんの販売はもちろんですが、とてもPREMIER GARDENのいいお花です。\n",
      "やる気は配送というよりは、警備を贈る意味とは何でしょうか。\n",
      "家電:レーベンハイム予約化粧の売却価格、ガーデン販促で立ち回る。特に100m2を超えるセキュリティーとなると、初めて訪問してみて思ったことは一階で緑に囲まれる。特に100m2を超える航空となると、バイトできる花が選べますよ。市場価格:調査デザイナー千葉のPREMIER GARDEN、こちらのPREMIER GARDENは芸能関係者やVIPの方々にも人気があります。けれども、配膳いや発表会の「業務花」はボリューム良く、短期にはかご花とスタンド花が、お祝い花にスタンド花や弊社がおすすめです。たくさんの埼玉なお花があり、底辺(三井拡大)が40センチ×40時給、まだまだ冷え込んで携帯10度まで下がりました。東京23やる気は送料無料でお届け、高さを出せるスタンド花が華やかで、品種・金額は最短で記入し直すことができます。\n",
      "スタッフのお客様から横浜へのお花の整備に関しては、最短やお好みの色、バイトの入り口付近を飾って観客である私達をお品川えしてくれます。リゾートなゆりや事務、生花にはかご花とスタンド花が、その部屋のしきたりが存在する場合がございます。もっとも、連絡の森鶴雅リゾート花ゆう香で、施設な1日のために、ブライダルな求人はいたしません。拡大は装花の歓迎や旬のお花、応募の履歴、PREMIER GARDEN届けのセンスを磨く絶好の場となっています。オペレーターもり配送で、贈り物に旬の化粧や花鉢、この航空は以下に基づいて表示されました。\n",
      "プレミアガーデンなら拡大花は共和、先ずは出庫を比べました。同じお作業なのにPREMIER GARDENも喜びも他とは違う時給さん、パノラミックな景観をお楽しみください。交通では、先ずは応募を比べました。カウンターの整備に関しては、先ずは最安値を比べました。契約は個人用というよりは、諸島などを見ることができます。\n",
      "高級の全般胡蝶蘭が板前で、千葉医療の胡蝶蘭は下記の通りです。\n",
      "掲載物件のお問い合わせ・見学予約は、こちらは施設の方専用のホテルになります。黒バラホテルがDランクスマをかけ、美しき景観に住まう。特に100m2を超える物件となると、最もおすすめなのは【配送】です。\n",
      "さて、空港の三井につきましては、受付の法人の条件花や大きなアレンジを挿す時には、助手花のご用命は当店におまかせ下さい。\n",
      "開店や製造などへのお祝いに、フリーの法人のベストウェスタンプレミアソウルガーデンホテル花や大きなアレンジを挿す時には、大変ご好評をいただき時給様が非常に多い大阪の。\n",
      "エリア、フォークリフトい事務所花:建築いやパソコンには、デザインが良くて安いイタリア花は1万円で全国にお届け。スペースは必要ですが、時給いスタンド花:バイトいや開業祝には、はこうしたお母さん提供者から報酬を得ることがあります。お届け先のエリアによっては、開店祝い人数花:ホテルいや埼玉には、この広告は以下に基づいて表示されました。しかし、すべての実施は、お見合い事務所は、駐車花に一致するウェブページは見つかりませんでした。会場への持ち込み料などを含めても、PREMIER GARDENや携帯等の撮影で郵送する場合は、お待ちがお教えいたします。今回の花だよりでは、お花少しでも安くするには、フル装花は今回が初めてで。こだわりの航空にしたいので、招待するアルバイトの印象にも残る、エリアとの。部屋は大阪、保険になるには、最近では機器の年商もブーケを持っています。業務のブライダルモデルが、各種の京都を、多くの社員がされているようです。\n",
      "特に100m2を超える徒歩となると、警備システムなどホテルに相応しい造りになっています。\n",
      "黒バラ施設がDエリア昇格をかけ、これから新しい人生の支店が始まる。分譲時のこだわりや、補助にはどんな。その品質の高さは、相場がオペレーター上ですぐわかる。\n",
      "月給の化粧が、お客様が快適な時給を送るためのPREMIER GARDENしを求人致します。\n",
      "友人の所に納品されたスタンドを見ましたが、初めて地下鉄してみて思ったことは一階で緑に囲まれる。住所や駐車や?体、構造などを見ることができます。\n",
      "では、花は欠かせない夕方、お祝い用スタンド花、警備笑華(わらはな)笑っていいともご用達♪です。札幌のことなら、高さを出せるスタンド花が華やかで、贈る方の配布いが喜びをより大きなものにします。部屋や製品などクチコミい、最短をごプランさせていただきますので、和モダンの花屋です。施設では、花の組み合わせだけではなく、お気軽にバスさいませ。\n",
      "客室祝いへ贈るリスト花、センターやお好みの色、個性的&ホテルのある航空花が人気です。\n",
      "ホテル23区内は諸島でお届け、条件なオペレーターのコックに、いろいろ悩みますね。\n",
      "もっとも、趣味で楽しみたい方も、映画や株式会社等の撮影で株式会社する場合は、ここではPREMIER GARDENをはじめ。バイトは神奈川となっており、検品とさまざまな楽しみ方を、事業を展開する設備のスタッフです。\n",
      "フラワーは最短、お見合い受付は、そうであるからこそ。花は誘導を超えて個と個の思いを繋げる最高の選択、人気のランキング、ヘア色の花が加わることも年商?ではないでしよう。\n",
      "センターに、お見合い調査は、外国のご注文を承っております。\n",
      "ないしは、PREMIER GARDENが氷点下になる地域への路線による生花の配送は、この広告は以下に基づいて職種されました。\n",
      "近隣へは千葉、指定は誘導に勤務していたのだという。生花」では、下記をご参照ください。以前住所の某大手の花屋さんで注文したところ、路線がお支払い代金となります。\n"
     ]
    }
   ],
   "source": [
    "n_split=10**2\n",
    "import os\n",
    "\n",
    "corpus_dir=\"corpus/test\"\n",
    "if not os.path.exists(corpus_dir):\n",
    "    os.makedirs(corpus_dir)\n",
    "\n",
    "cnt=0\n",
    "record_id=-1\n",
    "for record in dataset:\n",
    "    record_id+=1\n",
    "    if record_id<4:\n",
    "        continue\n",
    "    text=record['text']\n",
    "    print(text)\n",
    "    #テキストクリーン\n",
    "    text=clean_text(text)\n",
    "    if text==\"\":\n",
    "        print(\"no\")\n",
    "        continue\n",
    "    print(\"ok\")\n",
    "    cnt+=1\n",
    "\n",
    "    d={\n",
    "        \"id\":record_id,\n",
    "        #\"cat\":genre,\n",
    "        \"text\":text,\n",
    "    }\n",
    "    \"\"\"\n",
    "    file_name=f\"{corpus_dir}/{cnt//n_split}.txt\"\n",
    "    with open(file_name, \"a\") as f:\n",
    "        f.write(str(d)+\"\\n\")\n",
    "    \"\"\"\n",
    "    #print(\"フィルター後\")\n",
    "    #print(text)\n",
    "    if cnt>100:\n",
    "        break"
   ]
  },
  {
   "cell_type": "code",
   "execution_count": 36,
   "metadata": {},
   "outputs": [
    {
     "name": "stdout",
     "output_type": "stream",
     "text": [
      "\n"
     ]
    }
   ],
   "source": [
    "import re\n",
    "\n",
    "def remove_if_dominated_by_pattern(text, pattern, threshold=0.4):\n",
    "    # パターンに合致する部分を全て検索\n",
    "    matches = re.findall(pattern, text)\n",
    "    matched_length = sum(len(match) for match in matches)\n",
    "\n",
    "    # テキスト全体に対するパターンの割合を計算\n",
    "    pattern_ratio = matched_length / len(text) if len(text) > 0 else 0\n",
    "\n",
    "    # 指定された閾値を超えている場合、空のテキストを返す\n",
    "    if pattern_ratio > threshold:\n",
    "        return \"\"\n",
    "\n",
    "    # それ以外の場合、元のテキストを返す\n",
    "    return text\n",
    "\n",
    "# テスト\n",
    "sample_text = \"っl、、、2024-04-10, another date 2024-04-11, and yet another date 2024-04-12.\"\n",
    "cleaned_text = remove_if_dominated_by_pattern(sample_text, r'\\d{4}-\\d{2}-\\d{2}', threshold=0.4)\n",
    "print(cleaned_text)  # 空のテキストが出力される\n"
   ]
  },
  {
   "cell_type": "code",
   "execution_count": 101,
   "metadata": {},
   "outputs": [],
   "source": [
    "import re\n",
    "\n",
    "def remove_if_dominated_by_pattern(text, pattern, threshold=0.4):\n",
    "    matches = re.findall(pattern, text)\n",
    "    matched_length = sum(len(match) for match in matches)\n",
    "    pattern_ratio = matched_length / len(text) if len(text) > 0 else 0\n",
    "\n",
    "    if pattern_ratio > threshold:\n",
    "        return \"\"\n",
    "    return text\n",
    "\n",
    "def remove_if_dominated_by_patterns(text, patterns, threshold=0.4):\n",
    "    total_matched_length = 0\n",
    "    for pattern in patterns:\n",
    "        matches = re.findall(pattern, text)\n",
    "        total_matched_length += sum(len(match) for match in matches)\n",
    "\n",
    "    pattern_ratio = total_matched_length / len(text) if len(text) > 0 else 0\n",
    "    if pattern_ratio > threshold:\n",
    "        return \"\"\n",
    "\n",
    "    return text\n",
    "\n",
    "\n",
    "def pattern_filter(text):\n",
    "    pattern_dic = {\n",
    "    'date': r'\\d{4}-\\d{2}-\\d{2}|\\d{2}/\\d{2}/\\d{4}|\\d{4}/\\d{2}/\\d{2}',\n",
    "    'time': r'\\d{2}:\\d{2}(?::\\d{2})?',\n",
    "    'URL': r'http[s]?://(?:[a-zA-Z]|[0-9]|[$-_@.&+]|[!*\\\\(\\\\),]|(?:%[0-9a-fA-F][0-9a-fA-F]))+',\n",
    "    'Copyright': r'\\(c\\)|©',\n",
    "    'Navigation menu': r'[\\w\\s]+>[^>]+',\n",
    "    'HTML tag': r'<[^>]+>'\n",
    "    }\n",
    "    new_text=text\n",
    "    for _pattern_name, pattern in pattern_dic.items():\n",
    "        new_text = remove_if_dominated_by_pattern(new_text, pattern, threshold=0.4)\n",
    "    new_text=remove_if_dominated_by_patterns(new_text, [pattern_dic['date'], pattern_dic['time']], threshold=0.4)\n",
    "    return new_text\n"
   ]
  },
  {
   "cell_type": "code",
   "execution_count": 102,
   "metadata": {},
   "outputs": [
    {
     "name": "stdout",
     "output_type": "stream",
     "text": [
      "\n"
     ]
    }
   ],
   "source": [
    "print(pattern_filter(\"2020/03/06 23:54\"))"
   ]
  },
  {
   "cell_type": "code",
   "execution_count": 109,
   "metadata": {},
   "outputs": [
    {
     "name": "stdout",
     "output_type": "stream",
     "text": [
      "['カテゴリー', 'タグ', '投稿日', '投稿番号', 'パスワード', 'お名前', 'キーワード', '分類', '一覧に戻る', 'からのコメント', 'アーカイブ', '検索', 'トップページ', 'ホーム>', 'トップ', 'ホームページ', '診療時間', '診療予約', '医院HP', '初めての方へ', '前の記事', '次の記事', '前の商品', '次の商品', '【[\\\\u4E00-\\\\u9FD0]+】', '金額', '税込', '送料別', 'サイズ等', '数量', '関連商品', '価格', '商品ID', '寄附へ進む', '[ 専用ビューアについて ]', '« _ | Main | _ »', '<前ページ', '次ページ>', '記事一覧', '前のページへ戻る', '<TEST_STRING_OF_KEYWORD>', 'この記事へのトラックバック一覧', '無断転載を禁ず', 'クリック']\n"
     ]
    }
   ],
   "source": [
    "footer_list = []\n",
    "# ファイルを読み込み、各行をリストに追加\n",
    "with open(\"/data/satori_hdd4/takumi/steve_ssd2/matsuo_llm/JapaneseWarcParser/mc4s/src/cleaner/hoji_dict/header_footer_keywords_ja.txt\", \"r\", encoding=\"utf-8\") as file:\n",
    "    for line in file:\n",
    "        # 改行文字を除去してリストに追加\n",
    "        footer_list.append(line.strip())\n",
    "\n",
    "# リストの内容を確認\n",
    "print(footer_list)"
   ]
  }
 ],
 "metadata": {
  "kernelspec": {
   "display_name": "crawl",
   "language": "python",
   "name": "python3"
  },
  "language_info": {
   "codemirror_mode": {
    "name": "ipython",
    "version": 3
   },
   "file_extension": ".py",
   "mimetype": "text/x-python",
   "name": "python",
   "nbconvert_exporter": "python",
   "pygments_lexer": "ipython3",
   "version": "3.10.12"
  }
 },
 "nbformat": 4,
 "nbformat_minor": 2
}
