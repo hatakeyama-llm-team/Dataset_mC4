{
 "cells": [
  {
   "cell_type": "code",
   "execution_count": 18,
   "metadata": {},
   "outputs": [
    {
     "data": {
      "text/plain": [
       "'\\nmc4を掃除するcode\\n\\n'"
      ]
     },
     "execution_count": 18,
     "metadata": {},
     "output_type": "execute_result"
    }
   ],
   "source": [
    "%reload_ext autoreload\n",
    "%autoreload 2\n",
    "\n",
    "\"\"\"\n",
    "mc4を掃除するcode\n",
    "\n",
    "\"\"\"\n"
   ]
  },
  {
   "cell_type": "code",
   "execution_count": 4,
   "metadata": {},
   "outputs": [],
   "source": [
    "from src.cleaner.auto_cleaner import clean_text"
   ]
  },
  {
   "cell_type": "code",
   "execution_count": 17,
   "metadata": {},
   "outputs": [
    {
     "data": {
      "text/plain": [
       "''"
      ]
     },
     "execution_count": 17,
     "metadata": {},
     "output_type": "execute_result"
    }
   ],
   "source": [
    "txt=\"こんにちは､元気ですか?私は元気ですよ｡\" \n",
    "clean_text(txt) #短い文章なので､削除される"
   ]
  },
  {
   "cell_type": "code",
   "execution_count": 19,
   "metadata": {},
   "outputs": [
    {
     "name": "stderr",
     "output_type": "stream",
     "text": [
      "/home/setup/miniconda3/envs/webclean/lib/python3.12/site-packages/tqdm/auto.py:21: TqdmWarning: IProgress not found. Please update jupyter and ipywidgets. See https://ipywidgets.readthedocs.io/en/stable/user_install.html\n",
      "  from .autonotebook import tqdm as notebook_tqdm\n",
      "/home/setup/miniconda3/envs/webclean/lib/python3.12/site-packages/datasets/load.py:1461: FutureWarning: The repository for mc4 contains custom code which must be executed to correctly load the dataset. You can inspect the repository content at https://hf.co/datasets/mc4\n",
      "You can avoid this message in future by passing the argument `trust_remote_code=True`.\n",
      "Passing `trust_remote_code=True` will be mandatory to load this dataset from the next major release of `datasets`.\n",
      "  warnings.warn(\n",
      "/data/hf/modules/datasets_modules/datasets/mc4/78f7a2b7e2524fa44ee464ef429d011c365f5fe129283869e7fd76856aacb83a/mc4.py:284: FutureWarning: Dataset 'mc4' is deprecated and will be deleted. Use 'allenai/c4' instead.\n",
      "  warnings.warn(\n"
     ]
    }
   ],
   "source": [
    "from datasets import load_dataset\n",
    "\n",
    "#mc4の読み込み\n",
    "mc4_dataset = load_dataset('mc4', 'ja',split='train', streaming=True)\n",
    "\n",
    "\"\"\"\n",
    "#oscarなども読み込める\n",
    "#ignore_verifications=Trueをつけないとエラーとなる\n",
    "oscar_dataset = load_dataset('oscar', 'unshuffled_original_ja', \n",
    "                       split='train', \n",
    "                       ignore_verifications=True,\n",
    "                       streaming=True)\n",
    "\n",
    "\"\"\"\n",
    "\n",
    "dataset=mc4_dataset"
   ]
  },
  {
   "cell_type": "code",
   "execution_count": 146,
   "metadata": {},
   "outputs": [
    {
     "name": "stderr",
     "output_type": "stream",
     "text": [
      "  0%|          | 11700/10000000000 [01:03<11215:01:16, 247.68it/s]"
     ]
    }
   ],
   "source": [
    "from tqdm import tqdm\n",
    "max_articles=1000000\n",
    "#max_articles=1000\n",
    "\n",
    "cleaned_text=[]\n",
    "dataset_iter=iter(dataset)\n",
    "\n",
    "for i in tqdm(range(10**10)):\n",
    "    text=next(dataset_iter)[\"text\"]\n",
    "    text=clean_text(text)\n",
    "\n",
    "    if text!=\"\":\n",
    "        cleaned_text.append(text)\n",
    "\n",
    "    if len(cleaned_text)>max_articles:\n",
    "        break"
   ]
  },
  {
   "cell_type": "code",
   "execution_count": null,
   "metadata": {},
   "outputs": [
    {
     "data": {
      "text/plain": [
       "0.5349934750353064"
      ]
     },
     "execution_count": 144,
     "metadata": {},
     "output_type": "execute_result"
    }
   ],
   "source": [
    "#圧縮率\n",
    "len(cleaned_text)/i"
   ]
  },
  {
   "cell_type": "code",
   "execution_count": null,
   "metadata": {},
   "outputs": [],
   "source": [
    "import pandas as pd\n",
    "parquet_path=f\"data/cleaned_mc4_ja_{max_articles}.parquet\"\n",
    "df=pd.DataFrame()\n",
    "df[\"text\"]=cleaned_text\n",
    "df.to_parquet(parquet_path)"
   ]
  },
  {
   "cell_type": "code",
   "execution_count": null,
   "metadata": {},
   "outputs": [],
   "source": [
    "from datasets import load_dataset\n",
    "original_dataset = load_dataset('parquet', data_files=parquet_path,split=\"train\")"
   ]
  },
  {
   "cell_type": "code",
   "execution_count": null,
   "metadata": {},
   "outputs": [
    {
     "data": {
      "text/plain": [
       "{'text': '生八つ橋のタグまとめ|エキサイトブログ\\n生八つ橋のタグまとめ\\n「生八つ橋」のタグがついている新着記事と人気記事をまとめました。エキサイトブログには生八つ橋に関連するブログ(日記、記録、写真、レビュー、噂、まとめ)がたくさん投稿されています。\\n「生八つ橋」タグの記事(4)\\n生八つ橋いろいろ\\n京都旅行のお土産(我が家用)に色々な生八つ橋を買ってきました。我が家はみんな八つ橋ファンなのです～。地元の方達や京都を案内してくれたYさんは「八つ橋なんてもう何年も食べたことないわ～～～」と仰っていましたが、いやいや、美味しいですよ～～!私は大好きです!まぁ確かに私は東京出身ですが、雷おこしや人形焼きは食べませんからね～。\\n2020/03/06 23:54-NYの小さな灯り～ヘアメイク日記～\\n黒糖きな粉\\n冬限定の生八つ橋「ふゆおたべ」\\n日本から戻る時に大抵空港で生八つ橋か信玄餅のどちらかを必ず買って帰ってくるのですが、今回は珍しいバージョンを見かけたので生八つ橋を買う事にしました。それがこちら、冬限定の生八つ橋「ふゆおたべ」です。切り絵のデザインも素敵ですよね^^お味は黒豆と栗きんとんの二種類。\\n2019/03/06 00:30-NYの小さな灯り～ヘアメイク日記～\\n【株式会社美十】ショコラこたべ\\n日帰り京都旅行、あまり時間がなかったのでお土産はすべて京都駅周辺で済ませてしまいました。が、数年ぶりに訪れた京都ではお土産にも大きな変化が...!代表的な京都土産のひとつ、生八つ橋ってあのニッキの味わいがなんか苦手...っていう方も多いと思うんですけど、今はそういう定番以外にもイマドキ風な生八つ橋がすごくいっぱいあって驚きました!\\n大学生の孫が、部活の全国へ大会で、京都へ4日間行ってきたそうです。おみやげに、おたべとお茶を買ってきました。来年は、福井県だそうです。まぁ!アルバイトをしているからいいけれど、交通費がかかりそう!私は八十八を見て、てっきり八つ橋かと思って開けて見たらお茶でした。ちゃんと、考えて買ってきたのでした。我が家の飲んでいるお茶は、賄い茶、たくさん飲むので、これで十分です。'}"
      ]
     },
     "execution_count": 127,
     "metadata": {},
     "output_type": "execute_result"
    }
   ],
   "source": [
    "it=iter(original_dataset)\n",
    "next(it)"
   ]
  },
  {
   "cell_type": "code",
   "execution_count": 142,
   "metadata": {},
   "outputs": [
    {
     "data": {
      "text/plain": [
       "{'text': 'ペディグリーの通販|爽快ペットストア\\nペディグリーの通販なら、爽快ペットストア\\nペディグリー(6)\\nペディグリーそれいけ!小型犬11歳から用チキン入りとは味にうるさい愛犬の事を考えました。\\n足腰や関節にも配慮、グルコサミン\\nペディグリー11歳から用チキン&緑黄色野菜入りとは11歳からの愛犬の健康を維持し、免疫力の維持をするためにビタミンEを強化。健康維持に配慮し、グルコサミンが豊富なチキンを使用。11歳以上の愛犬が食べやすい薄型粒。ビーフの旨み入り!\\nペディグリーそれいけ!小型犬11歳から用チキン入りとは味にうるさい愛犬の事を考えました。\\n5,914円(税込)\\nグルコサミンが豊富なチキンを使用\\nペディグリードライ11歳から用チキン&緑黄色野菜入りとは11歳からの愛犬の健康を維持するためにビタミンEを強化しました。グルコサミンが豊富なチキンを使用。11歳以上の愛犬が食べやすい薄型粒。消化吸収性に配慮。\\n4,822円(税込)\\nペディグリードライ11歳から用チキン&緑黄色野菜入りとは11歳からの愛犬の健康を維持するためにビタミンEを強化しました。グルコサミンが豊富なチキンを使用。11歳以上の愛犬が食べやすい薄型粒。消化吸収性に配慮。\\nペディグリー7歳からヘルシーチキン&緑黄色野菜入りとは愛犬の骨格の健康維持をサポートするために良質なカルシウムをたっぷり含んでいます。高齢犬の健康に配慮した低カロリー設計。\\n2,918円(税込)'}"
      ]
     },
     "execution_count": 142,
     "metadata": {},
     "output_type": "execute_result"
    }
   ],
   "source": [
    "next(it)"
   ]
  },
  {
   "cell_type": "code",
   "execution_count": null,
   "metadata": {},
   "outputs": [],
   "source": []
  }
 ],
 "metadata": {
  "kernelspec": {
   "display_name": "crawl",
   "language": "python",
   "name": "python3"
  },
  "language_info": {
   "codemirror_mode": {
    "name": "ipython",
    "version": 3
   },
   "file_extension": ".py",
   "mimetype": "text/x-python",
   "name": "python",
   "nbconvert_exporter": "python",
   "pygments_lexer": "ipython3",
   "version": "3.12.2"
  }
 },
 "nbformat": 4,
 "nbformat_minor": 2
}
