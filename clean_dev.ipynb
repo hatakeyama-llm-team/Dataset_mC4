{
 "cells": [
  {
   "cell_type": "code",
   "execution_count": 18,
   "metadata": {},
   "outputs": [
    {
     "data": {
      "text/plain": [
       "'\\nmc4を掃除するcode\\n\\n'"
      ]
     },
     "execution_count": 18,
     "metadata": {},
     "output_type": "execute_result"
    }
   ],
   "source": [
    "%reload_ext autoreload\n",
    "%autoreload 2\n",
    "\n",
    "\"\"\"\n",
    "mc4を掃除するcode\n",
    "\n",
    "\"\"\"\n"
   ]
  },
  {
   "cell_type": "code",
   "execution_count": 4,
   "metadata": {},
   "outputs": [],
   "source": [
    "from src.cleaner.auto_cleaner import clean_text"
   ]
  },
  {
   "cell_type": "code",
   "execution_count": 17,
   "metadata": {},
   "outputs": [
    {
     "data": {
      "text/plain": [
       "''"
      ]
     },
     "execution_count": 17,
     "metadata": {},
     "output_type": "execute_result"
    }
   ],
   "source": [
    "txt=\"こんにちは､元気ですか?私は元気ですよ｡\" \n",
    "clean_text(txt) #短い文章なので､削除される"
   ]
  },
  {
   "cell_type": "code",
   "execution_count": 19,
   "metadata": {},
   "outputs": [
    {
     "name": "stderr",
     "output_type": "stream",
     "text": [
      "/home/setup/miniconda3/envs/webclean/lib/python3.12/site-packages/tqdm/auto.py:21: TqdmWarning: IProgress not found. Please update jupyter and ipywidgets. See https://ipywidgets.readthedocs.io/en/stable/user_install.html\n",
      "  from .autonotebook import tqdm as notebook_tqdm\n",
      "/home/setup/miniconda3/envs/webclean/lib/python3.12/site-packages/datasets/load.py:1461: FutureWarning: The repository for mc4 contains custom code which must be executed to correctly load the dataset. You can inspect the repository content at https://hf.co/datasets/mc4\n",
      "You can avoid this message in future by passing the argument `trust_remote_code=True`.\n",
      "Passing `trust_remote_code=True` will be mandatory to load this dataset from the next major release of `datasets`.\n",
      "  warnings.warn(\n",
      "/data/hf/modules/datasets_modules/datasets/mc4/78f7a2b7e2524fa44ee464ef429d011c365f5fe129283869e7fd76856aacb83a/mc4.py:284: FutureWarning: Dataset 'mc4' is deprecated and will be deleted. Use 'allenai/c4' instead.\n",
      "  warnings.warn(\n"
     ]
    }
   ],
   "source": [
    "from datasets import load_dataset\n",
    "\n",
    "#mc4の読み込み\n",
    "mc4_dataset = load_dataset('mc4', 'ja',split='train', streaming=True)\n",
    "\n",
    "\"\"\"\n",
    "#oscarなども読み込める\n",
    "#ignore_verifications=Trueをつけないとエラーとなる\n",
    "oscar_dataset = load_dataset('oscar', 'unshuffled_original_ja', \n",
    "                       split='train', \n",
    "                       ignore_verifications=True,\n",
    "                       streaming=True)\n",
    "\n",
    "\"\"\"\n",
    "\n",
    "dataset=mc4_dataset"
   ]
  },
  {
   "cell_type": "code",
   "execution_count": 153,
   "metadata": {},
   "outputs": [
    {
     "name": "stdout",
     "output_type": "stream",
     "text": [
      "-----\n",
      "生八つ橋のタグまとめ | エキサイトブログ\n",
      "生八つ橋のタグまとめ\n",
      "「生八つ橋」のタグがついている新着記事と人気記事をまとめました。エキサイトブログには生八つ橋に関連するブログ（日記、記録、写真、レビュー、噂、まとめ）がたくさん投稿されています。\n",
      "「生八つ橋」タグの記事（4）\n",
      "生八つ橋いろいろ\n",
      "京都旅行のお土産(我が家用)に色々な生八つ橋を買ってきました。我が家はみんな八つ橋ファンなのです～。地元の方達や京都を案内してくれたYさんは「八つ橋なんてもう何年も食べたことないわ～～～」と仰っていましたが、いやいや、美味しいですよ～～！！私は大好きです！まぁ確かに私は東京出身ですが、雷おこしや人形焼きは食べませんからね～。それと同じことでしょうか＾＾；とはいえ、舟和の芋ようかんや東京ばな奈...\n",
      "2020/03/06 23:54 - ＮＹの小さな灯り　～ヘアメイク日記～\n",
      "黒糖きな粉\n",
      "冬限定の生八つ橋「ふゆおたべ」\n",
      "日本から戻る時に大抵空港で生八つ橋か信玄餅のどちらかを必ず買って帰ってくるのですが、今回は珍しいバージョンを見かけたので生八つ橋を買う事にしました。それがこちら、冬限定の生八つ橋「ふゆおたべ」です。切り絵のデザインも素敵ですよね＾＾お味は黒豆と栗きんとんの二種類。おせち料理みたいです～♪栗きんとんは元々味がそんなに個性的でない事もあり、あまりよく分からなかったのですが（ふんわり甘くて美味しい...\n",
      "2019/03/06 00:30 - ＮＹの小さな灯り　～ヘアメイク日記～\n",
      "【株式会社 美十】ショコラこたべ\n",
      "日帰り京都旅行、あまり時間がなかったのでお土産はすべて京都駅周辺で済ませてしまいました。が、数年ぶりに訪れた京都ではお土産にも大きな変化が…！代表的な京都土産のひとつ、生八つ橋ってあのニッキの味わいがなんか苦手…っていう方も多いと思うんですけど、今はそういう定番以外にもイマドキ風な生八つ橋がすごくいっぱいあって驚きました！いろんなメーカーがあると思うんですけど、「おたべ」で知られている株式会...\n",
      "2018/01/28 21:07 - 岐阜うまうま日記（旧：池袋うまうま...\n",
      "大学生の孫が、部活の全国へ大会で、京都へ４日間行ってきたそうです。おみやげに、おたべとお茶を買ってきました。来年は、福井県だそうです。まぁ！アルバイトをしているからいいけれど、交通費がかかりそう！！私は八十八を見て、てっきり八つ橋かと思って開けて見たらお茶でした。ちゃんと、考えて買ってきたのでした。我が家の飲んでいるお茶は、賄い茶、たくさん飲むので、これで十分です。孫のおみやげのお茶は、細く...\n",
      "2016/08/16 17:37 - みすずのつぶやき\n",
      "********cleaned\n",
      "生八つ橋のタグまとめ|エキサイトブログ\n",
      "生八つ橋のタグまとめ\n",
      "「生八つ橋」のタグがついている新着記事と人気記事をまとめました。エキサイトブログには生八つ橋に関連するブログ(日記、記録、写真、レビュー、噂、まとめ)がたくさん投稿されています。\n",
      "「生八つ橋」タグの記事(4)\n",
      "生八つ橋いろいろ\n",
      "京都旅行のお土産(我が家用)に色々な生八つ橋を買ってきました。我が家はみんな八つ橋ファンなのです～。地元の方達や京都を案内してくれたYさんは「八つ橋なんてもう何年も食べたことないわ～～～」と仰っていましたが、いやいや、美味しいですよ～～!私は大好きです!まぁ確かに私は東京出身ですが、雷おこしや人形焼きは食べませんからね～。\n",
      "2020/03/06 23:54-NYの小さな灯り～ヘアメイク日記～\n",
      "黒糖きな粉\n",
      "冬限定の生八つ橋「ふゆおたべ」\n",
      "日本から戻る時に大抵空港で生八つ橋か信玄餅のどちらかを必ず買って帰ってくるのですが、今回は珍しいバージョンを見かけたので生八つ橋を買う事にしました。それがこちら、冬限定の生八つ橋「ふゆおたべ」です。切り絵のデザインも素敵ですよね^^お味は黒豆と栗きんとんの二種類。\n",
      "2019/03/06 00:30-NYの小さな灯り～ヘアメイク日記～\n",
      "【株式会社美十】ショコラこたべ\n",
      "日帰り京都旅行、あまり時間がなかったのでお土産はすべて京都駅周辺で済ませてしまいました。が、数年ぶりに訪れた京都ではお土産にも大きな変化が...!代表的な京都土産のひとつ、生八つ橋ってあのニッキの味わいがなんか苦手...っていう方も多いと思うんですけど、今はそういう定番以外にもイマドキ風な生八つ橋がすごくいっぱいあって驚きました!\n",
      "大学生の孫が、部活の全国へ大会で、京都へ4日間行ってきたそうです。おみやげに、おたべとお茶を買ってきました。来年は、福井県だそうです。まぁ!アルバイトをしているからいいけれど、交通費がかかりそう!私は八十八を見て、てっきり八つ橋かと思って開けて見たらお茶でした。ちゃんと、考えて買ってきたのでした。我が家の飲んでいるお茶は、賄い茶、たくさん飲むので、これで十分です。\n",
      "-----\n",
      "廃棄物をチップ／ペレットに - Gneuss\n",
      "フィルム、繊維、更には市場回収品であるPETボトルフレークなどのリサイクル可能な廃棄物は、高水準の純度で高品質ペレット/チップに加工し、生産押出機でバージン材料と混ぜることができます。\n",
      "Startseite アプリケーション例 Granulat & Regranulat\n",
      "繊維、フィルムやダンゴなどのリサイクル可能な廃棄物は、シュレッダーに入れられ、金属セパレーター付コンベアでアジエータ―を搭載した容器に投入されます。そこから、材料はオーガや詰め込みフィーダーによって押出機に運ばれます。\n",
      "あるいは、サイズを圧縮し塊となったリサイクル可能な廃棄物は、MRS押出機に直接入れることができます。サイズ圧縮と押し出しの処理工程を切り離すことの長所は、材料の投下（そしてさらにスループット率も）が均一にされ、そして、金属は材料フローから確実に排出されるところにあります。このシステムを統合化システム上で達成することは、一般的に非常に難しいです。\n",
      "押出機はゆっくりとポリエステルのゴミを溶かし、MRSの脱気セクションにおいて、表面に付着した水分、吸収された水分、スピン仕上げオイル、その他の添加物、または印刷インク（フィルムリサイクル時）といった、揮発成分を含んだポリマーをきれいにします。真空下の集中的で非常に効率的な表面交換は、優れたパフォーマンスを確実にします。ガラス、紙、またはセラミックのような固体物質は、全自動の、セルフクリーニング回転式スクリーンチェンジャーや、フィルターに通された溶融樹脂からペレタイジングシステム（チップ・カッター）へ移されることによって、取り除かれます。\n",
      "オプションとして、（たとえばより高いIV値材料が必要とされるとき）溶融ポリマーは、ペレット化される前に、正確なIV値増加を実現するために、直接IV値ブースターシステムJUMPに投入することができます。\n",
      "ペレタイジング／チップカッティングシステムは、後に続く結晶化する円筒ペレット向け、あるいは、余熱結晶体の球体のペレットアンダーウォーターダイフェイスカッティングシステム向けの、アンダーウォーターストランドペレタイジングプロセスとして特化されることができます。このように、高品質ペレット/チップは、最大100%リサイクル可能な廃棄物から製造することができます.\n",
      "GNEUSS社のペレット／チップ産業向けのリサイクル構想の利点\n",
      "幅広い特性を持ったペレットでも対応可能です\n",
      "ユーザーが求める正確な粘度調整ができ、様々なアプリケーションの条件を満たすことが出来ます\n",
      "ユーザーがブレンドを調整することが出来ます\n",
      "広範囲にわたる様々な種類の添加物を、簡単に溶融物に添加することが出来ます\n",
      "本来は廃棄物となるようなリサイクル可能材料から作られる高品質ペレットを販売出来ることによる、新しい市場開拓の実現が出来ます\n",
      "ファイバー、フィルム、生産スタートアップ時にできる廃棄物のような、容積密度の低い廃棄物は、団子状にまとめられ、押出機に投入できるようなサイズにするために、シュレッダーにかけられます。その原料は、金属探知機付のコンベアベルトによって、アジエータ―付の中間容器へと輸送されます。そこから、容積の大きい原料はドリルもしくは振動フィーダーを用いて押出機に投入されます。押出機内で、原料は溶かされ、脱揮され、さらにコンタミを取り除かれます。水分や油分といった揮発性のコンタミは抽出除去されます。一方で固体のコンタミはロータリーフィルトレーションシステムによって抽出除去されます。ペレタイジングの後で、既に揮発性及び個体のコンタミを取り除かれ浄化されたペレット／チップは、フィルムやシート、ファイバー、梱包テープなどといった産業において、バージン材の代わりに用いることが可能です。\n",
      "ファイバーや、フィルム、スタートアップ時のロス材料を用います。これらは、サイズは減らされ、そして必要であれば団子状にされ、金属探知機を通ってMRS押出機に投入されます。そこで原料は溶かされ、溶け込んだもしくは表面に付着している水分や、スピン仕上げオイル、その他工程で用いられる油分といった揮発性のコンタミを抽出し脱揮します。固体のコンタミは、ロータリーフィルトレーションシステムおよび、ブースターポンプを用いて抽出されます。溶融PETは液相IVブースターシステムJUMPへ投入されます。JUMPリアクター内の撹拌及びミキシング装置もまた、真空下において、高いポリマー溶融表面交換率によって、設定されたIV値を実現することが出来ます。粘度は、ラインコントロールシステムとの組み合わせにおけるオンライン粘度計を用いて調節することが出来ます。溶融ポリマーはロータリーフィルトレーションシステムを通って、バキュームから送り出されたのち、ペレット化されます。\n",
      "********cleaned\n",
      "廃棄物をチップ/ペレットに-Gneuss\n",
      "フィルム、繊維、更には市場回収品であるPETボトルフレークなどのリサイクル可能な廃棄物は、高水準の純度で高品質ペレット/チップに加工し、生産押出機でバージン材料と混ぜることができます。\n",
      "繊維、フィルムやダンゴなどのリサイクル可能な廃棄物は、シュレッダーに入れられ、金属セパレーター付コンベアでアジエーターを搭載した容器に投入されます。そこから、材料はオーガや詰め込みフィーダーによって押出機に運ばれます。\n",
      "あるいは、サイズを圧縮し塊となったリサイクル可能な廃棄物は、MRS押出機に直接入れることができます。サイズ圧縮と押し出しの処理工程を切り離すことの長所は、材料の投下(そしてさらにスループット率も)が均一にされ、そして、金属は材料フローから確実に排出されるところにあります。このシステムを統合化システム上で達成することは、一般的に非常に難しいです。\n",
      "押出機はゆっくりとポリエステルのゴミを溶かし、MRSの脱気セクションにおいて、表面に付着した水分、吸収された水分、スピン仕上げオイル、その他の添加物、または印刷インク(フィルムリサイクル時)といった、揮発成分を含んだポリマーをきれいにします。真空下の集中的で非常に効率的な表面交換は、優れたパフォーマンスを確実にします。ガラス、紙、またはセラミックのような固体物質は、全自動の、セルフクリーニング回転式スクリーンチェンジャーや、フィルターに通された溶融樹脂からペレタイジングシステム(チップ・カッター)へ移されることによって、取り除かれます。\n",
      "オプションとして、(たとえばより高いIV値材料が必要とされるとき)溶融ポリマーは、ペレット化される前に、正確なIV値増加を実現するために、直接IV値ブースターシステムJUMPに投入することができます。\n",
      "ペレタイジング/チップカッティングシステムは、後に続く結晶化する円筒ペレット向け、あるいは、余熱結晶体の球体のペレットアンダーウォーターダイフェイスカッティングシステム向けの、アンダーウォーターストランドペレタイジングプロセスとして特化されることができます。このように、高品質ペレット/チップは、最大100%リサイクル可能な廃棄物から製造することができます.\n",
      "GNEUSS社のペレット/チップ産業向けのリサイクル構想の利点\n",
      "幅広い特性を持ったペレットでも対応可能です\n",
      "ユーザーが求める正確な粘度調整ができ、様々なアプリケーションの条件を満たすことが出来ます\n",
      "ユーザーがブレンドを調整することが出来ます\n",
      "広範囲にわたる様々な種類の添加物を、簡単に溶融物に添加することが出来ます\n",
      "本来は廃棄物となるようなリサイクル可能材料から作られる高品質ペレットを販売出来ることによる、新しい市場開拓の実現が出来ます\n",
      "ファイバー、フィルム、生産スタートアップ時にできる廃棄物のような、容積密度の低い廃棄物は、団子状にまとめられ、押出機に投入できるようなサイズにするために、シュレッダーにかけられます。その原料は、金属探知機付のコンベアベルトによって、アジエーター付の中間容器へと輸送されます。そこから、容積の大きい原料はドリルもしくは振動フィーダーを用いて押出機に投入されます。押出機内で、原料は溶かされ、脱揮され、さらにコンタミを取り除かれます。水分や油分といった揮発性のコンタミは抽出除去されます。一方で固体のコンタミはロータリーフィルトレーションシステムによって抽出除去されます。ペレタイジングの後で、既に揮発性及び個体のコンタミを取り除かれ浄化されたペレット/チップは、フィルムやシート、ファイバー、梱包テープなどといった産業において、バージン材の代わりに用いることが可能です。\n",
      "ファイバーや、フィルム、スタートアップ時のロス材料を用います。これらは、サイズは減らされ、そして必要であれば団子状にされ、金属探知機を通ってMRS押出機に投入されます。そこで原料は溶かされ、溶け込んだもしくは表面に付着している水分や、スピン仕上げオイル、その他工程で用いられる油分といった揮発性のコンタミを抽出し脱揮します。固体のコンタミは、ロータリーフィルトレーションシステムおよび、ブースターポンプを用いて抽出されます。溶融PETは液相IVブースターシステムJUMPへ投入されます。JUMPリアクター内の撹拌及びミキシング装置もまた、真空下において、高いポリマー溶融表面交換率によって、設定されたIV値を実現することが出来ます。粘度は、ラインコントロールシステムとの組み合わせにおけるオンライン粘度計を用いて調節することが出来ます。溶融ポリマーはロータリーフィルトレーションシステムを通って、バキュームから送り出されたのち、ペレット化されます。\n",
      "-----\n",
      "愛媛、時々フランス chez notaire...\n",
      "chez notaire...\n",
      "Reims くもり中華の後のランデブーは公証人。ニンニクの臭いを気にしつつ。。。到着前に、更にブレスケアを仕込み。今まで、自分の持ち物のように家を紹介しておりましたが、実はまだ正式な契約は済ませておらず、住宅メーカーの持ち物でした。見栄っ張りでスミマセン・・・晴れて4月2日、契約書にサインをし、自分たちの持ち家になったわけです。パチパチパチパチ＾＾公証人役場の前の桜も満開で、祝福してくれているようです。まぁ、色々ゴタゴタしていて、当初1月にサインする予定が、来月、来月、来月、、、、、未定・・・となって、これも先週急に決まった日にち。紙面ではなく、画面を見ながら、書類(自宅に事前に送られてきているものと同じ)に目を通し、間違いがないか再度確認し、質問があれば質問したり、わかりやすい言葉に言いまわしてくれる。で、内容を理解して意義がなければ、これに各々サイン。仮契約から何回サインしただろう・・・荷物の受け取り、小切手、滞在許可証等々、サインすることは多々あるフランスですが一番緊張した。画面にサインも反映されている。サイバーテロに備えて、３つの場所に保管されるそう。　なかなかハイテクなおフランスです。ニンニク臭くなかったかなぁ・・・では、いつでも引っ越しできるよう、引っ越し準備がんばります。\n",
      "新たな・・・\t引っ越し準備1\tchez notaire...\tzone interdite\tnotre maison\t2015/04/04(土) 12:33:54|\n",
      "********cleaned\n",
      "Reimsくもり中華の後のランデブーは公証人。ニンニクの臭いを気にしつつ。到着前に、更にブレスケアを仕込み。今まで、自分の持ち物のように家を紹介しておりましたが、実はまだ正式な契約は済ませておらず、住宅メーカーの持ち物でした。見栄っ張りでスミマセン・・・晴れて4月2日、契約書にサインをし、自分たちの持ち家になったわけです。パチパチパチパチ^^公証人役場の前の桜も満開で、祝福してくれているようです。まぁ、色々ゴタゴタしていて、当初1月にサインする予定が、来月、来月、来月、、、、、未定・・・となって、これも先週急に決まった日にち。紙面ではなく、画面を見ながら、書類(自宅に事前に送られてきているものと同じ)に目を通し、間違いがないか再度確認し、質問があれば質問したり、わかりやすい言葉に言いまわしてくれる。で、内容を理解して意義がなければ、これに各々サイン。仮契約から何回サインしただろう・・・荷物の受け取り、小切手、滞在許可証等々、サインすることは多々あるフランスですが一番緊張した。画面にサインも反映されている。サイバーテロに備えて、3つの場所に保管されるそう。なかなかハイテクなおフランスです。ニンニク臭くなかったかなぁ・・・では、いつでも引っ越しできるよう、引っ越し準備がんばります。\n",
      "-----\n",
      "【V系】LIVE SETLIST【セトリ】　セルフカバー\n",
      "セルフカヴァーアルバム「LUNA SEA」試聴曲追加！（2）\n",
      "3月16日に発売されるLUNA SEAのセルフカヴァーアルバム「LUNA SEA」ですが本日18時より、試聴曲が追加になるようです又、明日9日からは着うた全曲一斉配信がスタートしますLUNA SEA Official(avex)　Tweet\n",
      "杉本善徳 GIGS「エンドレスセブン」一部公演 見合わせのお知らせ\t「FANATIC◇CRISIS FILM GIG Vol.4」延期のお知らせ\tナイトメア（Nightmare） エイベックス移籍と移籍第一弾シングル発売！\t星野英彦&櫻井敦司　栗山千明の1stアルバムに参加！\twyse復活へのカウントダウン！？ 今週は月森\t黒夢 『XXXX THE FAKE STAR』 フジテレビNEXTにて放送\t河村隆一（LUNA SEA） Myspace、Facebook、twitter開設！\tセルフカヴァーアルバム「LUNA SEA」試聴曲追加！（2）\tINORAN（LUNA SEA） SuperTramp PV公開！\tLUNA SEA CD&DVD購入者特典スペシャルキャンペーン決定！！\tセルフカヴァーアルバム「LUNA SEA」試聴曲追加！\tINORAN（LUNA SEA）の「音旅」次回ゲストはRYUICHI\tLUNACY（LUNA SEA） 黒服限定GIGが3D上映会開催！\tSTEALTH[アルストロメリア] Amazonでも取り扱い開始！\tセルフカヴァーアルバム「LUNA SEA」試聴開始！\t2011-03-08(15:29) : --- ニュース/情報 --- : このページのトップへ\n",
      "セルフカヴァーアルバム「LUNA SEA」試聴曲追加！\n",
      "3月16日に発売されるLUNA SEAのセルフカヴァーアルバム「LUNA SEA」ですが本日より、試聴曲に「FATE」と「SHADE」が追加になりました！LUNA SEA Official(avex)　Tweet\n",
      "星野英彦&櫻井敦司　栗山千明の1stアルバムに参加！\twyse復活へのカウントダウン！？ 今週は月森\t黒夢 『XXXX THE FAKE STAR』 フジテレビNEXTにて放送\t河村隆一（LUNA SEA） Myspace、Facebook、twitter開設！\tセルフカヴァーアルバム「LUNA SEA」試聴曲追加！（2）\tINORAN（LUNA SEA） SuperTramp PV公開！\tLUNA SEA CD&DVD購入者特典スペシャルキャンペーン決定！！\tセルフカヴァーアルバム「LUNA SEA」試聴曲追加！\tINORAN（LUNA SEA）の「音旅」次回ゲストはRYUICHI\tLUNACY（LUNA SEA） 黒服限定GIGが3D上映会開催！\tSTEALTH[アルストロメリア] Amazonでも取り扱い開始！\tセルフカヴァーアルバム「LUNA SEA」試聴開始！\tLUNA SEA -3月3日 ひな祭りに何かが起こる…-\tLUNACY（LUNA SEA）黒服限定GIG BShiにて再放送\tセルフカバーアルバム「LUNA SEA」3/1より一部先行視聴スタート\t2011-03-05(18:00) : --- ニュース/情報 --- : このページのトップへ\n",
      "セルフカヴァーアルバム「LUNA SEA」試聴開始！\n",
      "3月16日発売のセルフカバーアルバム「LUNA SEA」の試聴が開始されました！下記リンク先でSANDY TIME、BRANCH ROAD、CHESSの3曲が試聴出来ますCHESSのコーラス「CHESS WAR SEE！」が、かっこよすぎです（笑）LUNA SEA Official(avex)　Tweet\n",
      "セルフカヴァーアルバム「LUNA SEA」試聴曲追加！（2）\tINORAN（LUNA SEA） SuperTramp PV公開！\tLUNA SEA CD&DVD購入者特典スペシャルキャンペーン決定！！\tセルフカヴァーアルバム「LUNA SEA」試聴曲追加！\tINORAN（LUNA SEA）の「音旅」次回ゲストはRYUICHI\tLUNACY（LUNA SEA） 黒服限定GIGが3D上映会開催！\tSTEALTH[アルストロメリア] Amazonでも取り扱い開始！\tセルフカヴァーアルバム「LUNA SEA」試聴開始！\tLUNA SEA -3月3日 ひな祭りに何かが起こる…-\tLUNACY（LUNA SEA）黒服限定GIG BShiにて再放送\tセルフカバーアルバム「LUNA SEA」3/1より一部先行視聴スタート\tLUNA SEA 掲載雑誌情報（2月&3月分）\tLUNA SEA 来月発売のDVDジャケット発表！\t真矢（LUNA SEA） Rhythm & Drums magazine4月号表紙、巻頭特集とCD付！\tGuitar magazine4月号はSUGIZOとINORANが表紙\t2011-03-01(21:31) : --- ニュース/情報 --- : このページのトップへ\n",
      "セルフカバーアルバム「LUNA SEA」3/1より一部先行視聴スタート\n",
      "3月16日リリースのセルフカバーアルバム「LUNA SEA」が3/1から一部先行視聴出来る模様です！---------------------------------------------------------------約10年振りに5人でレコーディングされるのはその原点とも云うべく1stアルバム「LUNA SEA」のセルフカバー 3/1より一部先行視聴スタート!!http://avexnet.or.jp/lunasea/news/110224.html---------------------------------------------------------------　Tweet\n",
      "セルフカヴァーアルバム「LUNA SEA」試聴曲追加！\tINORAN（LUNA SEA）の「音旅」次回ゲストはRYUICHI\tLUNACY（LUNA SEA） 黒服限定GIGが3D上映会開催！\tSTEALTH[アルストロメリア] Amazonでも取り扱い開始！\tセルフカヴァーアルバム「LUNA SEA」試聴開始！\tLUNA SEA -3月3日 ひな祭りに何かが起こる…-\tLUNACY（LUNA SEA）黒服限定GIG BShiにて再放送\tセルフカバーアルバム「LUNA SEA」3/1より一部先行視聴スタート\tLUNA SEA 掲載雑誌情報（2月&3月分）\tLUNA SEA 来月発売のDVDジャケット発表！\t真矢（LUNA SEA） Rhythm & Drums magazine4月号表紙、巻頭特集とCD付！\tGuitar magazine4月号はSUGIZOとINORANが表紙\t[動画] LUNA SEA Maria（新曲）＠東京ドーム\t[動画] hyde（L'Arc～en～Ciel）&清春（黒夢）-HUSK\t[動画] L'Arc～en～Ciel-記憶の破片\t2011-02-24(21:25) : --- ニュース/情報 --- : このページのトップへ\n",
      "LUNA SEA セルフカバーアルバムのジャケットと収録曲を発表\n",
      "3月16日に発売されるLUNA SEAのセルフカヴァーアルバム「LUNA SEA」の3タイプ全てのジャケットと収録曲が発表になりました！---------------------------------------LUNA SEA 2011.3.16 release 【CD】YICQ-10050　￥3,150(tax in.)【数量限定PREMIUM BOX】YIZQ-10048/B　￥10,000(tax in.)【CD+DVD】YICQ-10049/B　￥3,900(tax in.)1. FATE2. TIME IS DEAD3. SANDY TIME4. BRANCH ROAD5. SHADE6. BLUE TRANSPARENCY　限りなく 透明に 近い ブルー7. THE SLAIN8. CHESS9. MOON10. PRECIOUS...詳細ページ　Tweet\n",
      "Nightmare（ナイトメア） 3月11日のライブで重大発表\tナイトメア HPにて謎のカウントダウン\tWyse復活！？ Official HPとtwitter開設\tLUNA SEA 32ページの別冊付録！ ROCKIN’ON JAPAN4月号\toveRtaKerS feat. RYUICHI KAWAMURA×SUGIZO 3月9日発売！\tRYUICHIと真矢が出演決定！ NHK「スタジオパークからこんにちは」\t河村隆一（LUNA SEA） カールのCMでイメージソングを担当\tLUNA SEA セルフカバーアルバムのジャケットと収録曲を発表\tLUNA SEA出演 NHK「スタジオパークからこんにちは」\tJ（LUNA SEA） 出演「田家秀樹 J-POP TALKIN'」\t[動画] LUNA SEA IN MIND＠日清パワーステーション\t[動画] LUNA SEA　黒服限定GIG（3周年）＠町田プレイハウス\tフジテレビNEXTにてLUNA SEAのライブを5時間放送！\t[動画] LUNA SEA PRECIOUS...＠愛知県庄内緑地公園\t[動画] LUNA SEA BLUE TRANSPARENCY＠愛知県庄内緑地公園\t2011-02-08(02:41) : --- ニュース/情報 --- : このページのトップへ\n",
      "LUNA SEA セルフカバーアルバム「LUNA SEA」2011年3月16日発売\n",
      "LUNA SEAがセルフカバーアルバム「LUNA SEA」を2011年3月16日リリースする事が決まりましたアルバムのバージョンが3つもあり複数売りがあまり好きじゃない自分はLUNA SEAがそういう売り方をするのはちょっと嫌なんですが（笑）各タイプの内容はこんな感じです●初回生産限定PREMIUM BOX 10000円（税込）CD＋1989年1000本限定で発売された3曲入り2ndデモテープ「SHADE」復刻版カセットテープ＋豪華PREMIUM GOODS●CD＋DVD 4000円（税込）CD＋ドキュメントDVD●CD 3150円（税込）PREMIUM BOXのデモテープ復刻はかなり熱いですね（笑）LASTLYもSHADEもアルバム版と全然バージョンが違いますしここで発表するLUNA SEAの軸のブレなさはかっこいいです！でも、自分はドキュメントDVDが見たいので、DVD付きを買うかも（笑）　Tweet\n",
      "[動画] LUNA SEA REBOOT WISH＠ドイツ\t[動画] LUNA SEA REBOOT TONIGHT＠ドイツ\t[動画] LUNA SEA REBOOT PRECIOUS...＠ドイツ\t[動画] LUNA SEA REBOOT STORM＠ドイツ\tLUNA SEA×NHK BSデジタルスペシャルコラボ&#12316;スペシャルメッセージフロムRYUICHI\tLUNA SEA 20th ANNIVERSARY WORLD TOUR REBOOTオフィシャルグッズWEB SHOPスタート\tLUNACY（LUNA SEA） 期間限定でアメブロに登場\tLUNA SEA セルフカバーアルバム「LUNA SEA」2011年3月16日発売\tLUNACY（LUNA SEA） 黒服限定GIG　～the Holy Night～ WORLD TOUR REBOOT - Message from RYUICHI and SUGIZO for GERMANY [HQ]\tLUNA SEA TVCF Taiwan [HQ]\tINORAN「音旅」にSUGIZOが出演\tWORLD TOUR \"REBOOT\" - Exclusive comment from SUGIZO for USA [HQ]\tWORLD TOUR \"REBOOT\" - Exclusive comment from SUGIZO for GERMANY [HQ]\tLUNA SEA ~ To the New Moon ~ World Tour Preview\t2010-12-01(11:59) : --- ニュース/情報 --- : このページのトップへ\n",
      "アルルカン (212)\n",
      "ユナイト 2017.03.28 EX THEATER ROPPONGIのセットリスト[セトリ] (03/28)\n",
      "A9（Alice Nine） 2017.03.28 EX THEATER ROPPONGIのセットリスト[セトリ] (03/28)\n",
      "ダウト 2017.03.28 EX THEATER ROPPONGIのセットリスト[セトリ] (03/28)\n",
      "HERO 2017.03.28 EX THEATER ROPPONGIのセットリスト[セトリ] (03/28)\n",
      "アルルカン 2017.03.28 岡山CRAZYMAMA 2nd Room（1日目）のセットリスト[セトリ] (03/28)\n",
      "セットリスト LIST SET セトリ LUNA SEA GLAY DIR GREY EN BUCK-TICK LUNASEA DIAURA VAMPS MUCC HYDE ムック MERRY ユナイト 黒夢 UNiTE メリー 清春 LIPHLICH えんそく アルルカン SCAPEGOAT ナイトメア INORAN Moran Plastic J シド Tree heidi. HERO SUGIZO SID lynch. AvelCain 幸也 JILS NIGHTMARE ラルク PENICILLIN BugLug NoGoD カメレオ Lycaon DEZERT ABC PlasticTree Kra GOTCHAROCKA BORN yasu Angelo L'Arc～en～Ciel キリト Cherry Acid 花少年バディーズ 楽譜 vistlip 金爆 wyse XJAPAN ゴールデンボンバー Black DaizyStripper cali≠gari umbrella ガゼット Waive レビュー D≒SIRE 杉本善徳 スコア 凛 MEJIBRAY 河村隆一 プロフィール Lament. カラオケ R指定 名言 Kαin Sadie PIERROT ギルガメッシュ 復活 REBOOT 歌月大五郎 DIV DuelJewel RYUICHI More LU+CA 中古 ν［NEU] 摩天楼オペラ SCREW ギガマウス グリーヴァ ニコニコ動画 DOGinThe defspiral ノクブラ 真矢 バロック GazettE ダウト YouTube ディル C4 the baroque Sel’m GULLET Laputa La'Mule 機材 SOPHIA STEALTH Gazette サイコルシェイム Raphael ジン HOLLOWGRAM PsycholeCemu kein Versailles 松岡充 ViViD 音域 最高音 アンカフェ JUDY Eins:Vier AND アンティック-珈琲店- MARY X V系 コード進行 LUNACY ビジュアル系 Janne 通販 己龍 ジャンヌ ヴィジュアル系 cune MASCHERA Gackt メガマソ 東京ドーム Blu-BiLLioN theGazettE ニコ生 12012 SADS D'ERLANGER YOSHIKI TAKURO SuG ENDLESS sukekiyo 瀧川一郎 Royz CRAZE TOKI DVD 武道館 宇宙戦隊NOIZ DearLoving 田澤孝介 SHADE CELL ギター ZIGZO WOWOW D SHIGE SIAM Christi アルバム La'cryma 石月努 樹威 cocklobin emmuree ラクリマ KAMIJO ROUAGE yazzmad yohiaco ライブスケジュール FANATICCRISIS 覇叉羅 KISAKI ジュディマリ KIDDIE YUKI LM.C 地獄絵 黒服 MALICEMIZER Alice アヲイ L'Arc-en-Ciel VogusImage Nine 梶永大士 Vasalla TRANSTICNERVE AliceNine 雫... サッカー 生熊耕治 ベスト Zepp A9 aie Jupiter ベース TERU 動画 MeteoroiD 新曲 ambergris 小林亮三 マスケラ 東日本大震災 ライブ オムニバス 3.11 Lastier DIRENGREY 香港 Ray KneuklidRomance DIEINCRIES バンドスコア DAIGO HISASHI ニュークリ 大阪 BREAKERZ D'espairsRay LAREINE hide 人時 CLOSE DEATHGAZE ALvino LubisCadir テレビ You LUNATICFEST. 紺 ラスティア 本名 Ruellia Tube カウントダウン AcidBlackCherry アメリカ 隠しトラック 名前 シークレットトラック 未発表曲 NeiL rice Ize 牧田拓磨 ランキング BOOWY 日本武道館 Dolly Blue ギルド MALICE DASEIN MIZER 漾 MIRAGE 日本代表 Noi'X BY-SEXUAL レア曲 LUCHe. ブレイクアウト SHAZNA Out Break 台湾 再結成 GRASS 月森 再始動 彩冷える 渋谷 IN Galruda PROMISE 神戸 RAZOR Syndrome 鈴木新 aki ILLUMINA JIRO MICHAEL D'elsquel 雑誌 FANATIC CRISIS MIYAVI 雅 Due`lequartz 台北 四天王 Jリーグ 9GOATS PV TV EDEN BLACK GiGS OUT ジャニーズ 赤い花 蜉蝣 THE Ya-foo KEEL Brack 再起動 NightingeiL DAY アンド トリビュート Arc YA-SU 華月 Lamiel Initial'L 布袋 大佑 ドレミ團 ギルト 配信 ホタル 鬼龍院翔 中島卓偉 インタビュー IZAM 葵 D-SHADE 黒服限定 LIVE JAPAN 難波 AYABIE 藤崎賢一 20周年 hyde 氷室 原曲者 解散 機材紹介 L'Arc ドラム Da 名古屋 未音源化 舜 25周年 ルナフェス RYUCHI 仙台貨物 LIZARD'STAIL 未音源 CASCADE CreatureCreature 3D TETSU DAS:VASSER DEADEND 京 ALSDEAD MORRY 氷室京介 BSフジ GACKT SIAMSHADE 使用機材 コダマユタカ MisticMoon ドイツ CD キャパ 今井寿 人格ラヂオ ホール Bass 潤 TAKUI 町田 中村泰造 Shibuya TAKUMA CM 横浜 大北公登 代々木第一体育館 VisualJapanSummit 代々木 MerryGoRound e.mu 野音 deadman HIDE デモ 大阪城 セルフカバー 仙台 ライブハウス Kagrra ν[NEU] 赤坂 波音 美流沙女 さいたま Junji NHK 収容人数 募金 theLEM 活動休止 布袋寅泰 キャパシティ twitter La'mule LUCA カリガリ lynch RUKA さいたまスーパーアリーナ 逹瑯 グッズ YOMI 配布 STRAYPIGVANGUARD 薫 原曲 babysitter S 特典 ken 拓磨 HAKUEI デランジェ HIRO Ravecraft Fatima 味スタ ヤガミトール ドキュメント KAZUKI Deshabillz BOX 大阪城ホール UST 万作 Tomoi お願いランキング WAIL Bangkok たまアリ プロ野球 鹿鳴館 生中継 AKB48 Luv'ra-Doll 3minutes Fender TOKIO 都啓一 JanneDaArc 弥生 吉井和哉 幕張 韓国 渋谷公会堂 アリーナ 天野攸紀 新宿ロフト フェス 福岡 tetsuya サマソニ 歌詞 ESP a-nation 有村竜太朗 Die Crack6 アインスフィア 特番 tetsu 降臨 Mステ World 偽聖飢魔Ⅱ 櫻井敦司 重大発表 AKBINGO Tour NHKホール 木村カエラ Merry-Go-Round Sads Nightmare ガラ 柩 新宿 ZI:KILL マオ Tourbillon 無敵バンド ジャンヌダルク デモテープ 真夏の野外 test-No. 咲人 JUSTY-NASTY タッキー&翼 GIGS 東京 Wyse アイジ Guitar 玲央 BAISER 葉月 gris 記者会見 滝川一郎 ピエトロ ToshI ベルベット BODY amber Phobia 一番くじ JZEIL Kreis RHEDORIC 椎名林檎 Lady Aftereffect allureidea YUKKE Rayflower ARIHITO DIMMDIVISION. WITHSEXY SETLIST 栄喜 難波章浩 SleepMyDear 対談 DAITA ZENITH 関ジャニ∞ L'luvia Kill=Slayd 氣志團 シャ乱Q avex 映画 明希 DIE-ZW3E 俊 SPEED-iD Kill=slayd MissingTear BOφWY 横浜アリーナ デザビエ heath 櫻井有紀 Hi-STANDARD FOOL'SMATE ブルーハーツ ヴィドール grey VINYL PlastcTree ピエロ 野球 高校野球 LINDBERG LAST YFC KAZUMA Eze:quL 越中睦士 聖飢魔II 未発表 NightingaiL Philia マリスミゼル USA Kein ミサ EXILE ゆうや 9GOATSBLACKOUT Toshiya RESEARCH 吉川晃司 太鼓の達人 KOJI COMPLEX Orphee 天雷軒 Da’vidノ使徒:aL Shulla 村井研次郎 Vivid 竜太朗 ν［NEU］ ブランドX アニソン ryo LOUDNESS オリンピック Ni～ya 脱退 失踪 TESTU DEVELOP=FRAME JeauL HEATH 写真集 Cemu 東京事変 コドモ 達瑯 ジッタリンジン CLφWD 桜井青 横浜スタジアム 真冬の野外 高橋まこと 櫻井翔 GISHO Shinji れいた Psycho le en Dear 嵐 Dir Lc5 mori 円盤屋 theFUZZ AION ライチ☆光クラブ Da'vidﾉ使徒:aL Λucifer FINALACT 未散 LASTLIP 秀誉 和也 Shun CAPACITY∞ Kaya vellaDonna Gill'ecadith CROW-SIS SHAZA D'espairs 森岡賢 Hide Sel'm AUBE KAT-TUN Taipei HIZAKI 自主盤倶楽部 La'crymaChristi Lavender ペンタゴン Lagna P'UNK～EN～CIEL ze零ro KleinKaiser DoLLs-eyE SHUSE 星野英彦 西川貴教 kazu 月と海 尾張桜組 Morrie ベリィ QUASAR PsycholeCému ライカエジソン SMAP ジュイ 非難GO-GO Of-J LEVIN 黒蝪蝶 中村敦 KATZE TOSHI 歌月 浅葱 ZI÷KILL Ruiza 堕天使 沢田泰司 Delasine CL決勝 アリス九號. 臣 DALIAN 高樹町ミサイルズ ルカ BreakOut DERAIL Matina 閃-hirameki- Duelequartz ゲノ イエモン こー ピロカルピン GillesdeRais 御剣-Mitsurugi- JUDYANDMARY Luis-Mary machine なでしこ DEFLOWER EX-ANS L'yse:nore 東京ヤンキース 非難GOGO BUMPOFCHICKEN 川本真琴 ZONE リュシフェル ダウンロード ヒスブル mp3 theblliantgreen ブリグリ 石井秀仁 ミドリ DopeHEADz shame rephit PATA Hysteric JAM 森友嵐士 淳士 毛皮のマリーズ 東京スカパラダイスオーケストラ SHULA GARDEN Vizell NATCHIN 雀羅 ジュンスカ 千聖 O-JIRO Madethgray'll Eze：quL 相対性理論 椿屋四重奏 復活ライブ FAKE? LANDZ 黄泉 ファナティッククライシス ゆきの シークレット ルキ FAKE？ Platina OZ MACHINEGUNS heidi 宮崎京一 イヴ J-WAVE ka-yu JOVO Toshi yukihiro Whiteberry JITTERIN'JINN 凛として時雨 Shinya SATOち J-POP ミヤ 怜我 mediayouth HIROKI スカパラ 中島美嘉 RADWIMPS GO!GO!7188 ドリカム HIBIKI MISTRUST STELLAMARIA SHAKALABBITS AMADEUS ZIZ 室姫深 Kozi Pleur MARY☆RUE ピュエラ PENICLLIN gaia STAY Luinspear Lu:Re PoisonousDoll HYPERMANIA KneuKlidRomance DOWNER ポルノグラフィティ KEN YUJI Silver-Rose NEED Da'vidノ使徒:aL WANDS yabuki 弥舞姫 S.K.I.N. VIDOLL hitomi ラピュータ L’Arc-en-Ciel 板谷祐 Yoshitsugu pero JURASSIC RaFF-CuSS Hirofumi Luna LOVE Shiver ラメ SHOXX 相川七瀬 尾崎豊 冥実誠 ファナティック 賛美歌 FANATIC◇CRISIS Buglug FUZZ シャズナ 樽美酒研二 S.Q.F MARIKI EveryLittleThing MARRY+AN+BLOOD ＱＲコード\n",
      "********cleaned\n",
      "\n",
      "-----\n",
      "【エロ動画】くりくり瞳のショートヘアの女の子にシコってもらってムハァーーーーーー！！(*ﾟ∀ﾟ)=3 アダルトMAX-無修正と無料動画-\n",
      "エロ くりくり瞳のショートヘアの女の子にシコってもらってムハァーーーーーー *ﾟ∀ﾟ =3\n",
      "TOP > エロ くりくり瞳のショートヘアの女の子にシコってもらってムハァーーーーーー *ﾟ∀ﾟ =3\n",
      "投稿日:2015-08-02 01:00:16\n",
      "カテゴリー エロ*ﾟ∀ﾟ=3\n",
      "[1]«73298 73299 73300 73301 73302 73303 73304»[138086]\n",
      "********cleaned\n",
      "\n",
      "-----\n",
      "サーモス 真空断熱ポット コーヒーメーカー 【タイマーで前日予約が可能】 ECH-1...の\n",
      "見た目の良さと、渋くなりにくい良さ, 2014/10/12\n",
      "レビュー対象商品: サーモス 真空断熱ポット コーヒーメーカー 【タイマーで前日予約が可能】 ECH-1000 CS (ホーム&キッチン)\n",
      "定年した父に、父の日のプレゼントとして購入しました。毎回コーヒーを水筒に入れ替えていたのを見て、こちらの方が効率がよいと思ったのが購入理由です。他の真空ポット系のコーヒーメーカーも見たのですが、THERMOSのものが一番良さそうでした。購入目的がおいしく淹れる目的ではないのですが一応蒸らしの時間が設定されているのも面白いです。タイマー機能も使っていないですが面白いです。ポットなので、ゴムパッキンに茶しぶ的なものがつくので、こま目に洗うことは必要です。ポットが冷たい時には中のコーヒーも冷まされてしまうのであたためた方が保温性能が上がると思います。上の蓋を開けると、コーヒー粉を淹れる部分があるのですが、縁の溝に飛び散った粉が貯まるようで、ふと見た時にカビていて衝撃を受けました。取外しもできない部分で、さらに溝が細く深いので爪楊枝を使って綺麗にしました。取り外しできる部分が本体には少ないので清潔に使いたいときには清掃が手間です。いろいろ書きましたが保温力のあるコーヒーメーカーだと一番いいと思います。\n",
      "見た目の良さと、渋くなりにくい良さ\n",
      "ベストレビュワーランキング: 16,272\n",
      "********cleaned\n",
      "サーモス真空断熱ポットコーヒーメーカー【タイマーで前日予約が可能】ECH-1...の\n",
      "見た目の良さと、渋くなりにくい良さ,2014/10/12\n",
      "定年した父に、父の日のプレゼントとして購入しました。毎回コーヒーを水筒に入れ替えていたのを見て、こちらの方が効率がよいと思ったのが購入理由です。他の真空ポット系のコーヒーメーカーも見たのですが、THERMOSのものが一番良さそうでした。購入目的がおいしく淹れる目的ではないのですが一応蒸らしの時間が設定されているのも面白いです。タイマー機能も使っていないですが面白いです。ポットなので、ゴムパッキンに茶しぶ的なものがつくので、こま目に洗うことは必要です。ポットが冷たい時には中のコーヒーも冷まされてしまうのであたためた方が保温性能が上がると思います。上の蓋を開けると、コーヒー粉を淹れる部分があるのですが、縁の溝に飛び散った粉が貯まるようで、ふと見た時にカビていて衝撃を受けました。取外しもできない部分で、さらに溝が細く深いので爪楊枝を使って綺麗にしました。取り外しできる部分が本体には少ないので清潔に使いたいときには清掃が手間です。いろいろ書きましたが保温力のあるコーヒーメーカーだと一番いいと思います。\n",
      "見た目の良さと、渋くなりにくい良さ\n",
      "-----\n",
      "輿水幸子 自称・カワイイVer. オン・ザ・ステージ版｜アイドルマスター｜フィギュア買取｜フリークス | アイドルマスターシンデレラガールズ \",a.firstChild&&typeof a.firstChild.getAttribute!=\"undefined\"&&a.firstChild.getAttribute(\"href\")!==\"#\"&&(o.attrHandle.href=function(a){return a.getAttribute(\"href\",2)}),a=null}(),c.querySelectorAll&&function(){var a=m,b=c.createElement(\"div\"),d=\"__sizzle__\";b.innerHTML=\"\n",
      "2016-9-21 19:07\n",
      "********cleaned\n",
      "\n"
     ]
    }
   ],
   "source": [
    "for i,record in enumerate(dataset):\n",
    "    txt=record[\"text\"]\n",
    "    print(\"-----\")\n",
    "    print(txt)\n",
    "    print(\"********cleaned\")\n",
    "    print(clean_text(txt))\n",
    "\n",
    "    if i>5:\n",
    "        break"
   ]
  },
  {
   "cell_type": "code",
   "execution_count": 147,
   "metadata": {},
   "outputs": [
    {
     "name": "stderr",
     "output_type": "stream",
     "text": [
      "  0%|          | 0/10000000000 [00:00<?, ?it/s]"
     ]
    },
    {
     "name": "stderr",
     "output_type": "stream",
     "text": [
      "  0%|          | 1920/10000000000 [00:11<17199:41:13, 161.50it/s]\n"
     ]
    }
   ],
   "source": [
    "from tqdm import tqdm\n",
    "max_articles=1000000\n",
    "#max_articles=1000\n",
    "\n",
    "cleaned_text=[]\n",
    "dataset_iter=iter(dataset)\n",
    "original_len=0\n",
    "cleaned_len=0\n",
    "\n",
    "for i in tqdm(range(10**10)):\n",
    "    text=next(dataset_iter)[\"text\"]\n",
    "    original_len+=len(text)\n",
    "    text=clean_text(text)\n",
    "\n",
    "    if text!=\"\":\n",
    "        cleaned_text.append(text)\n",
    "        cleaned_len+=len(text)\n",
    "\n",
    "    if len(cleaned_text)>max_articles:\n",
    "        break"
   ]
  },
  {
   "cell_type": "code",
   "execution_count": 148,
   "metadata": {},
   "outputs": [
    {
     "data": {
      "text/plain": [
       "0.32688728888210944"
      ]
     },
     "execution_count": 148,
     "metadata": {},
     "output_type": "execute_result"
    }
   ],
   "source": [
    "#圧縮率\n",
    "cleaned_len/original_len"
   ]
  },
  {
   "cell_type": "code",
   "execution_count": null,
   "metadata": {},
   "outputs": [],
   "source": [
    "import pandas as pd\n",
    "parquet_path=f\"data/cleaned_mc4_ja_{max_articles}.parquet\"\n",
    "df=pd.DataFrame()\n",
    "df[\"text\"]=cleaned_text\n",
    "df.to_parquet(parquet_path)"
   ]
  },
  {
   "cell_type": "code",
   "execution_count": null,
   "metadata": {},
   "outputs": [],
   "source": [
    "from datasets import load_dataset\n",
    "original_dataset = load_dataset('parquet', data_files=parquet_path,split=\"train\")"
   ]
  },
  {
   "cell_type": "code",
   "execution_count": null,
   "metadata": {},
   "outputs": [
    {
     "data": {
      "text/plain": [
       "{'text': '生八つ橋のタグまとめ|エキサイトブログ\\n生八つ橋のタグまとめ\\n「生八つ橋」のタグがついている新着記事と人気記事をまとめました。エキサイトブログには生八つ橋に関連するブログ(日記、記録、写真、レビュー、噂、まとめ)がたくさん投稿されています。\\n「生八つ橋」タグの記事(4)\\n生八つ橋いろいろ\\n京都旅行のお土産(我が家用)に色々な生八つ橋を買ってきました。我が家はみんな八つ橋ファンなのです～。地元の方達や京都を案内してくれたYさんは「八つ橋なんてもう何年も食べたことないわ～～～」と仰っていましたが、いやいや、美味しいですよ～～!私は大好きです!まぁ確かに私は東京出身ですが、雷おこしや人形焼きは食べませんからね～。\\n2020/03/06 23:54-NYの小さな灯り～ヘアメイク日記～\\n黒糖きな粉\\n冬限定の生八つ橋「ふゆおたべ」\\n日本から戻る時に大抵空港で生八つ橋か信玄餅のどちらかを必ず買って帰ってくるのですが、今回は珍しいバージョンを見かけたので生八つ橋を買う事にしました。それがこちら、冬限定の生八つ橋「ふゆおたべ」です。切り絵のデザインも素敵ですよね^^お味は黒豆と栗きんとんの二種類。\\n2019/03/06 00:30-NYの小さな灯り～ヘアメイク日記～\\n【株式会社美十】ショコラこたべ\\n日帰り京都旅行、あまり時間がなかったのでお土産はすべて京都駅周辺で済ませてしまいました。が、数年ぶりに訪れた京都ではお土産にも大きな変化が...!代表的な京都土産のひとつ、生八つ橋ってあのニッキの味わいがなんか苦手...っていう方も多いと思うんですけど、今はそういう定番以外にもイマドキ風な生八つ橋がすごくいっぱいあって驚きました!\\n大学生の孫が、部活の全国へ大会で、京都へ4日間行ってきたそうです。おみやげに、おたべとお茶を買ってきました。来年は、福井県だそうです。まぁ!アルバイトをしているからいいけれど、交通費がかかりそう!私は八十八を見て、てっきり八つ橋かと思って開けて見たらお茶でした。ちゃんと、考えて買ってきたのでした。我が家の飲んでいるお茶は、賄い茶、たくさん飲むので、これで十分です。'}"
      ]
     },
     "execution_count": 127,
     "metadata": {},
     "output_type": "execute_result"
    }
   ],
   "source": [
    "it=iter(original_dataset)\n",
    "next(it)"
   ]
  },
  {
   "cell_type": "code",
   "execution_count": 142,
   "metadata": {},
   "outputs": [
    {
     "data": {
      "text/plain": [
       "{'text': 'ペディグリーの通販|爽快ペットストア\\nペディグリーの通販なら、爽快ペットストア\\nペディグリー(6)\\nペディグリーそれいけ!小型犬11歳から用チキン入りとは味にうるさい愛犬の事を考えました。\\n足腰や関節にも配慮、グルコサミン\\nペディグリー11歳から用チキン&緑黄色野菜入りとは11歳からの愛犬の健康を維持し、免疫力の維持をするためにビタミンEを強化。健康維持に配慮し、グルコサミンが豊富なチキンを使用。11歳以上の愛犬が食べやすい薄型粒。ビーフの旨み入り!\\nペディグリーそれいけ!小型犬11歳から用チキン入りとは味にうるさい愛犬の事を考えました。\\n5,914円(税込)\\nグルコサミンが豊富なチキンを使用\\nペディグリードライ11歳から用チキン&緑黄色野菜入りとは11歳からの愛犬の健康を維持するためにビタミンEを強化しました。グルコサミンが豊富なチキンを使用。11歳以上の愛犬が食べやすい薄型粒。消化吸収性に配慮。\\n4,822円(税込)\\nペディグリードライ11歳から用チキン&緑黄色野菜入りとは11歳からの愛犬の健康を維持するためにビタミンEを強化しました。グルコサミンが豊富なチキンを使用。11歳以上の愛犬が食べやすい薄型粒。消化吸収性に配慮。\\nペディグリー7歳からヘルシーチキン&緑黄色野菜入りとは愛犬の骨格の健康維持をサポートするために良質なカルシウムをたっぷり含んでいます。高齢犬の健康に配慮した低カロリー設計。\\n2,918円(税込)'}"
      ]
     },
     "execution_count": 142,
     "metadata": {},
     "output_type": "execute_result"
    }
   ],
   "source": [
    "next(it)"
   ]
  },
  {
   "cell_type": "code",
   "execution_count": null,
   "metadata": {},
   "outputs": [],
   "source": []
  }
 ],
 "metadata": {
  "kernelspec": {
   "display_name": "crawl",
   "language": "python",
   "name": "python3"
  },
  "language_info": {
   "codemirror_mode": {
    "name": "ipython",
    "version": 3
   },
   "file_extension": ".py",
   "mimetype": "text/x-python",
   "name": "python",
   "nbconvert_exporter": "python",
   "pygments_lexer": "ipython3",
   "version": "3.12.2"
  }
 },
 "nbformat": 4,
 "nbformat_minor": 2
}
